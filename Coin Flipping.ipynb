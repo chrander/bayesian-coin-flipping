{
 "cells": [
  {
   "cell_type": "code",
   "execution_count": 1,
   "metadata": {},
   "outputs": [],
   "source": [
    "from bokeh.plotting import figure, show, output_notebook\n",
    "from bokeh.models import ColumnDataSource, Label\n",
    "from bokeh.models.widgets import Slider, TextInput\n",
    "from bokeh.layouts import row, widgetbox\n",
    "from bokeh.io import push_notebook\n",
    "from scipy.stats import beta\n",
    "from scipy.integrate import quad\n",
    "from scipy.special import gammaln\n",
    "import numpy as np"
   ]
  },
  {
   "cell_type": "code",
   "execution_count": 2,
   "metadata": {},
   "outputs": [
    {
     "data": {
      "text/html": [
       "\n",
       "    <div class=\"bk-root\">\n",
       "        <a href=\"https://bokeh.pydata.org\" target=\"_blank\" class=\"bk-logo bk-logo-small bk-logo-notebook\"></a>\n",
       "        <span id=\"13974751-2eab-4913-b8c8-80edf556f559\">Loading BokehJS ...</span>\n",
       "    </div>"
      ]
     },
     "metadata": {},
     "output_type": "display_data"
    },
    {
     "data": {
      "application/javascript": [
       "\n",
       "(function(root) {\n",
       "  function now() {\n",
       "    return new Date();\n",
       "  }\n",
       "\n",
       "  var force = true;\n",
       "\n",
       "  if (typeof (root._bokeh_onload_callbacks) === \"undefined\" || force === true) {\n",
       "    root._bokeh_onload_callbacks = [];\n",
       "    root._bokeh_is_loading = undefined;\n",
       "  }\n",
       "\n",
       "  var JS_MIME_TYPE = 'application/javascript';\n",
       "  var HTML_MIME_TYPE = 'text/html';\n",
       "  var EXEC_MIME_TYPE = 'application/vnd.bokehjs_exec.v0+json';\n",
       "  var CLASS_NAME = 'output_bokeh rendered_html';\n",
       "\n",
       "  /**\n",
       "   * Render data to the DOM node\n",
       "   */\n",
       "  function render(props, node) {\n",
       "    var script = document.createElement(\"script\");\n",
       "    node.appendChild(script);\n",
       "  }\n",
       "\n",
       "  /**\n",
       "   * Handle when an output is cleared or removed\n",
       "   */\n",
       "  function handleClearOutput(event, handle) {\n",
       "    var cell = handle.cell;\n",
       "\n",
       "    var id = cell.output_area._bokeh_element_id;\n",
       "    var server_id = cell.output_area._bokeh_server_id;\n",
       "    // Clean up Bokeh references\n",
       "    if (id != null && id in Bokeh.index) {\n",
       "      Bokeh.index[id].model.document.clear();\n",
       "      delete Bokeh.index[id];\n",
       "    }\n",
       "\n",
       "    if (server_id !== undefined) {\n",
       "      // Clean up Bokeh references\n",
       "      var cmd = \"from bokeh.io.state import curstate; print(curstate().uuid_to_server['\" + server_id + \"'].get_sessions()[0].document.roots[0]._id)\";\n",
       "      cell.notebook.kernel.execute(cmd, {\n",
       "        iopub: {\n",
       "          output: function(msg) {\n",
       "            var id = msg.content.text.trim();\n",
       "            if (id in Bokeh.index) {\n",
       "              Bokeh.index[id].model.document.clear();\n",
       "              delete Bokeh.index[id];\n",
       "            }\n",
       "          }\n",
       "        }\n",
       "      });\n",
       "      // Destroy server and session\n",
       "      var cmd = \"import bokeh.io.notebook as ion; ion.destroy_server('\" + server_id + \"')\";\n",
       "      cell.notebook.kernel.execute(cmd);\n",
       "    }\n",
       "  }\n",
       "\n",
       "  /**\n",
       "   * Handle when a new output is added\n",
       "   */\n",
       "  function handleAddOutput(event, handle) {\n",
       "    var output_area = handle.output_area;\n",
       "    var output = handle.output;\n",
       "\n",
       "    // limit handleAddOutput to display_data with EXEC_MIME_TYPE content only\n",
       "    if ((output.output_type != \"display_data\") || (!output.data.hasOwnProperty(EXEC_MIME_TYPE))) {\n",
       "      return\n",
       "    }\n",
       "\n",
       "    var toinsert = output_area.element.find(\".\" + CLASS_NAME.split(' ')[0]);\n",
       "\n",
       "    if (output.metadata[EXEC_MIME_TYPE][\"id\"] !== undefined) {\n",
       "      toinsert[toinsert.length - 1].firstChild.textContent = output.data[JS_MIME_TYPE];\n",
       "      // store reference to embed id on output_area\n",
       "      output_area._bokeh_element_id = output.metadata[EXEC_MIME_TYPE][\"id\"];\n",
       "    }\n",
       "    if (output.metadata[EXEC_MIME_TYPE][\"server_id\"] !== undefined) {\n",
       "      var bk_div = document.createElement(\"div\");\n",
       "      bk_div.innerHTML = output.data[HTML_MIME_TYPE];\n",
       "      var script_attrs = bk_div.children[0].attributes;\n",
       "      for (var i = 0; i < script_attrs.length; i++) {\n",
       "        toinsert[toinsert.length - 1].firstChild.setAttribute(script_attrs[i].name, script_attrs[i].value);\n",
       "      }\n",
       "      // store reference to server id on output_area\n",
       "      output_area._bokeh_server_id = output.metadata[EXEC_MIME_TYPE][\"server_id\"];\n",
       "    }\n",
       "  }\n",
       "\n",
       "  function register_renderer(events, OutputArea) {\n",
       "\n",
       "    function append_mime(data, metadata, element) {\n",
       "      // create a DOM node to render to\n",
       "      var toinsert = this.create_output_subarea(\n",
       "        metadata,\n",
       "        CLASS_NAME,\n",
       "        EXEC_MIME_TYPE\n",
       "      );\n",
       "      this.keyboard_manager.register_events(toinsert);\n",
       "      // Render to node\n",
       "      var props = {data: data, metadata: metadata[EXEC_MIME_TYPE]};\n",
       "      render(props, toinsert[toinsert.length - 1]);\n",
       "      element.append(toinsert);\n",
       "      return toinsert\n",
       "    }\n",
       "\n",
       "    /* Handle when an output is cleared or removed */\n",
       "    events.on('clear_output.CodeCell', handleClearOutput);\n",
       "    events.on('delete.Cell', handleClearOutput);\n",
       "\n",
       "    /* Handle when a new output is added */\n",
       "    events.on('output_added.OutputArea', handleAddOutput);\n",
       "\n",
       "    /**\n",
       "     * Register the mime type and append_mime function with output_area\n",
       "     */\n",
       "    OutputArea.prototype.register_mime_type(EXEC_MIME_TYPE, append_mime, {\n",
       "      /* Is output safe? */\n",
       "      safe: true,\n",
       "      /* Index of renderer in `output_area.display_order` */\n",
       "      index: 0\n",
       "    });\n",
       "  }\n",
       "\n",
       "  // register the mime type if in Jupyter Notebook environment and previously unregistered\n",
       "  if (root.Jupyter !== undefined) {\n",
       "    var events = require('base/js/events');\n",
       "    var OutputArea = require('notebook/js/outputarea').OutputArea;\n",
       "\n",
       "    if (OutputArea.prototype.mime_types().indexOf(EXEC_MIME_TYPE) == -1) {\n",
       "      register_renderer(events, OutputArea);\n",
       "    }\n",
       "  }\n",
       "\n",
       "  \n",
       "  if (typeof (root._bokeh_timeout) === \"undefined\" || force === true) {\n",
       "    root._bokeh_timeout = Date.now() + 5000;\n",
       "    root._bokeh_failed_load = false;\n",
       "  }\n",
       "\n",
       "  var NB_LOAD_WARNING = {'data': {'text/html':\n",
       "     \"<div style='background-color: #fdd'>\\n\"+\n",
       "     \"<p>\\n\"+\n",
       "     \"BokehJS does not appear to have successfully loaded. If loading BokehJS from CDN, this \\n\"+\n",
       "     \"may be due to a slow or bad network connection. Possible fixes:\\n\"+\n",
       "     \"</p>\\n\"+\n",
       "     \"<ul>\\n\"+\n",
       "     \"<li>re-rerun `output_notebook()` to attempt to load from CDN again, or</li>\\n\"+\n",
       "     \"<li>use INLINE resources instead, as so:</li>\\n\"+\n",
       "     \"</ul>\\n\"+\n",
       "     \"<code>\\n\"+\n",
       "     \"from bokeh.resources import INLINE\\n\"+\n",
       "     \"output_notebook(resources=INLINE)\\n\"+\n",
       "     \"</code>\\n\"+\n",
       "     \"</div>\"}};\n",
       "\n",
       "  function display_loaded() {\n",
       "    var el = document.getElementById(\"13974751-2eab-4913-b8c8-80edf556f559\");\n",
       "    if (el != null) {\n",
       "      el.textContent = \"BokehJS is loading...\";\n",
       "    }\n",
       "    if (root.Bokeh !== undefined) {\n",
       "      if (el != null) {\n",
       "        el.textContent = \"BokehJS \" + root.Bokeh.version + \" successfully loaded.\";\n",
       "      }\n",
       "    } else if (Date.now() < root._bokeh_timeout) {\n",
       "      setTimeout(display_loaded, 100)\n",
       "    }\n",
       "  }\n",
       "\n",
       "\n",
       "  function run_callbacks() {\n",
       "    try {\n",
       "      root._bokeh_onload_callbacks.forEach(function(callback) { callback() });\n",
       "    }\n",
       "    finally {\n",
       "      delete root._bokeh_onload_callbacks\n",
       "    }\n",
       "    console.info(\"Bokeh: all callbacks have finished\");\n",
       "  }\n",
       "\n",
       "  function load_libs(js_urls, callback) {\n",
       "    root._bokeh_onload_callbacks.push(callback);\n",
       "    if (root._bokeh_is_loading > 0) {\n",
       "      console.log(\"Bokeh: BokehJS is being loaded, scheduling callback at\", now());\n",
       "      return null;\n",
       "    }\n",
       "    if (js_urls == null || js_urls.length === 0) {\n",
       "      run_callbacks();\n",
       "      return null;\n",
       "    }\n",
       "    console.log(\"Bokeh: BokehJS not loaded, scheduling load and callback at\", now());\n",
       "    root._bokeh_is_loading = js_urls.length;\n",
       "    for (var i = 0; i < js_urls.length; i++) {\n",
       "      var url = js_urls[i];\n",
       "      var s = document.createElement('script');\n",
       "      s.src = url;\n",
       "      s.async = false;\n",
       "      s.onreadystatechange = s.onload = function() {\n",
       "        root._bokeh_is_loading--;\n",
       "        if (root._bokeh_is_loading === 0) {\n",
       "          console.log(\"Bokeh: all BokehJS libraries loaded\");\n",
       "          run_callbacks()\n",
       "        }\n",
       "      };\n",
       "      s.onerror = function() {\n",
       "        console.warn(\"failed to load library \" + url);\n",
       "      };\n",
       "      console.log(\"Bokeh: injecting script tag for BokehJS library: \", url);\n",
       "      document.getElementsByTagName(\"head\")[0].appendChild(s);\n",
       "    }\n",
       "  };var element = document.getElementById(\"13974751-2eab-4913-b8c8-80edf556f559\");\n",
       "  if (element == null) {\n",
       "    console.log(\"Bokeh: ERROR: autoload.js configured with elementid '13974751-2eab-4913-b8c8-80edf556f559' but no matching script tag was found. \")\n",
       "    return false;\n",
       "  }\n",
       "\n",
       "  var js_urls = [\"https://cdn.pydata.org/bokeh/release/bokeh-0.13.0.min.js\", \"https://cdn.pydata.org/bokeh/release/bokeh-widgets-0.13.0.min.js\", \"https://cdn.pydata.org/bokeh/release/bokeh-tables-0.13.0.min.js\", \"https://cdn.pydata.org/bokeh/release/bokeh-gl-0.13.0.min.js\"];\n",
       "\n",
       "  var inline_js = [\n",
       "    function(Bokeh) {\n",
       "      Bokeh.set_log_level(\"info\");\n",
       "    },\n",
       "    \n",
       "    function(Bokeh) {\n",
       "      \n",
       "    },\n",
       "    function(Bokeh) {\n",
       "      console.log(\"Bokeh: injecting CSS: https://cdn.pydata.org/bokeh/release/bokeh-0.13.0.min.css\");\n",
       "      Bokeh.embed.inject_css(\"https://cdn.pydata.org/bokeh/release/bokeh-0.13.0.min.css\");\n",
       "      console.log(\"Bokeh: injecting CSS: https://cdn.pydata.org/bokeh/release/bokeh-widgets-0.13.0.min.css\");\n",
       "      Bokeh.embed.inject_css(\"https://cdn.pydata.org/bokeh/release/bokeh-widgets-0.13.0.min.css\");\n",
       "      console.log(\"Bokeh: injecting CSS: https://cdn.pydata.org/bokeh/release/bokeh-tables-0.13.0.min.css\");\n",
       "      Bokeh.embed.inject_css(\"https://cdn.pydata.org/bokeh/release/bokeh-tables-0.13.0.min.css\");\n",
       "    }\n",
       "  ];\n",
       "\n",
       "  function run_inline_js() {\n",
       "    \n",
       "    if ((root.Bokeh !== undefined) || (force === true)) {\n",
       "      for (var i = 0; i < inline_js.length; i++) {\n",
       "        inline_js[i].call(root, root.Bokeh);\n",
       "      }if (force === true) {\n",
       "        display_loaded();\n",
       "      }} else if (Date.now() < root._bokeh_timeout) {\n",
       "      setTimeout(run_inline_js, 100);\n",
       "    } else if (!root._bokeh_failed_load) {\n",
       "      console.log(\"Bokeh: BokehJS failed to load within specified timeout.\");\n",
       "      root._bokeh_failed_load = true;\n",
       "    } else if (force !== true) {\n",
       "      var cell = $(document.getElementById(\"13974751-2eab-4913-b8c8-80edf556f559\")).parents('.cell').data().cell;\n",
       "      cell.output_area.append_execute_result(NB_LOAD_WARNING)\n",
       "    }\n",
       "\n",
       "  }\n",
       "\n",
       "  if (root._bokeh_is_loading === 0) {\n",
       "    console.log(\"Bokeh: BokehJS loaded, going straight to plotting\");\n",
       "    run_inline_js();\n",
       "  } else {\n",
       "    load_libs(js_urls, function() {\n",
       "      console.log(\"Bokeh: BokehJS plotting callback run at\", now());\n",
       "      run_inline_js();\n",
       "    });\n",
       "  }\n",
       "}(window));"
      ],
      "application/vnd.bokehjs_load.v0+json": "\n(function(root) {\n  function now() {\n    return new Date();\n  }\n\n  var force = true;\n\n  if (typeof (root._bokeh_onload_callbacks) === \"undefined\" || force === true) {\n    root._bokeh_onload_callbacks = [];\n    root._bokeh_is_loading = undefined;\n  }\n\n  \n\n  \n  if (typeof (root._bokeh_timeout) === \"undefined\" || force === true) {\n    root._bokeh_timeout = Date.now() + 5000;\n    root._bokeh_failed_load = false;\n  }\n\n  var NB_LOAD_WARNING = {'data': {'text/html':\n     \"<div style='background-color: #fdd'>\\n\"+\n     \"<p>\\n\"+\n     \"BokehJS does not appear to have successfully loaded. If loading BokehJS from CDN, this \\n\"+\n     \"may be due to a slow or bad network connection. Possible fixes:\\n\"+\n     \"</p>\\n\"+\n     \"<ul>\\n\"+\n     \"<li>re-rerun `output_notebook()` to attempt to load from CDN again, or</li>\\n\"+\n     \"<li>use INLINE resources instead, as so:</li>\\n\"+\n     \"</ul>\\n\"+\n     \"<code>\\n\"+\n     \"from bokeh.resources import INLINE\\n\"+\n     \"output_notebook(resources=INLINE)\\n\"+\n     \"</code>\\n\"+\n     \"</div>\"}};\n\n  function display_loaded() {\n    var el = document.getElementById(\"13974751-2eab-4913-b8c8-80edf556f559\");\n    if (el != null) {\n      el.textContent = \"BokehJS is loading...\";\n    }\n    if (root.Bokeh !== undefined) {\n      if (el != null) {\n        el.textContent = \"BokehJS \" + root.Bokeh.version + \" successfully loaded.\";\n      }\n    } else if (Date.now() < root._bokeh_timeout) {\n      setTimeout(display_loaded, 100)\n    }\n  }\n\n\n  function run_callbacks() {\n    try {\n      root._bokeh_onload_callbacks.forEach(function(callback) { callback() });\n    }\n    finally {\n      delete root._bokeh_onload_callbacks\n    }\n    console.info(\"Bokeh: all callbacks have finished\");\n  }\n\n  function load_libs(js_urls, callback) {\n    root._bokeh_onload_callbacks.push(callback);\n    if (root._bokeh_is_loading > 0) {\n      console.log(\"Bokeh: BokehJS is being loaded, scheduling callback at\", now());\n      return null;\n    }\n    if (js_urls == null || js_urls.length === 0) {\n      run_callbacks();\n      return null;\n    }\n    console.log(\"Bokeh: BokehJS not loaded, scheduling load and callback at\", now());\n    root._bokeh_is_loading = js_urls.length;\n    for (var i = 0; i < js_urls.length; i++) {\n      var url = js_urls[i];\n      var s = document.createElement('script');\n      s.src = url;\n      s.async = false;\n      s.onreadystatechange = s.onload = function() {\n        root._bokeh_is_loading--;\n        if (root._bokeh_is_loading === 0) {\n          console.log(\"Bokeh: all BokehJS libraries loaded\");\n          run_callbacks()\n        }\n      };\n      s.onerror = function() {\n        console.warn(\"failed to load library \" + url);\n      };\n      console.log(\"Bokeh: injecting script tag for BokehJS library: \", url);\n      document.getElementsByTagName(\"head\")[0].appendChild(s);\n    }\n  };var element = document.getElementById(\"13974751-2eab-4913-b8c8-80edf556f559\");\n  if (element == null) {\n    console.log(\"Bokeh: ERROR: autoload.js configured with elementid '13974751-2eab-4913-b8c8-80edf556f559' but no matching script tag was found. \")\n    return false;\n  }\n\n  var js_urls = [\"https://cdn.pydata.org/bokeh/release/bokeh-0.13.0.min.js\", \"https://cdn.pydata.org/bokeh/release/bokeh-widgets-0.13.0.min.js\", \"https://cdn.pydata.org/bokeh/release/bokeh-tables-0.13.0.min.js\", \"https://cdn.pydata.org/bokeh/release/bokeh-gl-0.13.0.min.js\"];\n\n  var inline_js = [\n    function(Bokeh) {\n      Bokeh.set_log_level(\"info\");\n    },\n    \n    function(Bokeh) {\n      \n    },\n    function(Bokeh) {\n      console.log(\"Bokeh: injecting CSS: https://cdn.pydata.org/bokeh/release/bokeh-0.13.0.min.css\");\n      Bokeh.embed.inject_css(\"https://cdn.pydata.org/bokeh/release/bokeh-0.13.0.min.css\");\n      console.log(\"Bokeh: injecting CSS: https://cdn.pydata.org/bokeh/release/bokeh-widgets-0.13.0.min.css\");\n      Bokeh.embed.inject_css(\"https://cdn.pydata.org/bokeh/release/bokeh-widgets-0.13.0.min.css\");\n      console.log(\"Bokeh: injecting CSS: https://cdn.pydata.org/bokeh/release/bokeh-tables-0.13.0.min.css\");\n      Bokeh.embed.inject_css(\"https://cdn.pydata.org/bokeh/release/bokeh-tables-0.13.0.min.css\");\n    }\n  ];\n\n  function run_inline_js() {\n    \n    if ((root.Bokeh !== undefined) || (force === true)) {\n      for (var i = 0; i < inline_js.length; i++) {\n        inline_js[i].call(root, root.Bokeh);\n      }if (force === true) {\n        display_loaded();\n      }} else if (Date.now() < root._bokeh_timeout) {\n      setTimeout(run_inline_js, 100);\n    } else if (!root._bokeh_failed_load) {\n      console.log(\"Bokeh: BokehJS failed to load within specified timeout.\");\n      root._bokeh_failed_load = true;\n    } else if (force !== true) {\n      var cell = $(document.getElementById(\"13974751-2eab-4913-b8c8-80edf556f559\")).parents('.cell').data().cell;\n      cell.output_area.append_execute_result(NB_LOAD_WARNING)\n    }\n\n  }\n\n  if (root._bokeh_is_loading === 0) {\n    console.log(\"Bokeh: BokehJS loaded, going straight to plotting\");\n    run_inline_js();\n  } else {\n    load_libs(js_urls, function() {\n      console.log(\"Bokeh: BokehJS plotting callback run at\", now());\n      run_inline_js();\n    });\n  }\n}(window));"
     },
     "metadata": {},
     "output_type": "display_data"
    }
   ],
   "source": [
    "output_notebook()"
   ]
  },
  {
   "cell_type": "code",
   "execution_count": 3,
   "metadata": {},
   "outputs": [],
   "source": [
    "def plot_pdfs(x, prior, posterior, title=\"\"):\n",
    "    source = ColumnDataSource({'x': x, 'prior': prior.pdf(x), 'posterior': posterior.pdf(x)})\n",
    "    \n",
    "    p = figure(height=400, width=500, toolbar_location=None)\n",
    "    p.line(source=source, x='x', y='prior', line_width=4, line_alpha=0.6, legend='Prior')\n",
    "    p.line(source=source, x='x', y='posterior', line_width=3, line_alpha=0.6, legend='Posterior', color='firebrick')\n",
    "\n",
    "    p.title.text = title\n",
    "    p.title.text_font_size='14pt'\n",
    "    p.xaxis.axis_label = 'q'\n",
    "    p.yaxis.axis_label = 'Probability Density'\n",
    "#     p.axis.axis_label_text_font_style = 'normal'\n",
    "    p.axis.axis_label_text_font_size = '16pt'\n",
    "    p.axis.major_label_text_font_size = '14pt'\n",
    "    p.outline_line_width = 1\n",
    "    p.outline_line_alpha = 1\n",
    "    p.outline_line_color = \"black\"\n",
    "\n",
    "    return p"
   ]
  },
  {
   "cell_type": "markdown",
   "metadata": {},
   "source": [
    "## Parameter Estimation\n",
    "Given a set of coin flips, what is the coin's weighting in favor of Heads?"
   ]
  },
  {
   "cell_type": "code",
   "execution_count": 46,
   "metadata": {},
   "outputs": [
    {
     "data": {
      "text/html": [
       "\n",
       "\n",
       "\n",
       "\n",
       "\n",
       "\n",
       "  <div class=\"bk-root\" id=\"d3882f46-7fcf-46f8-a7d2-7c91e3ab5adb\"></div>\n"
      ]
     },
     "metadata": {},
     "output_type": "display_data"
    },
    {
     "data": {
      "application/javascript": [
       "(function(root) {\n",
       "  function embed_document(root) {\n",
       "    \n",
       "  var docs_json = {\"06828899-51f4-4dcf-a6c9-d2fccb969f3a\":{\"roots\":{\"references\":[{\"attributes\":{},\"id\":\"72ae8bda-531f-49d0-bb51-c8f0350104cb\",\"type\":\"PanTool\"},{\"attributes\":{\"bottom_units\":\"screen\",\"fill_alpha\":{\"value\":0.5},\"fill_color\":{\"value\":\"lightgrey\"},\"left_units\":\"screen\",\"level\":\"overlay\",\"line_alpha\":{\"value\":1.0},\"line_color\":{\"value\":\"black\"},\"line_dash\":[4,4],\"line_width\":{\"value\":2},\"plot\":null,\"render_mode\":\"css\",\"right_units\":\"screen\",\"top_units\":\"screen\"},\"id\":\"79de87d0-cd72-4044-9fbe-10bc414ce775\",\"type\":\"BoxAnnotation\"},{\"attributes\":{},\"id\":\"84519e08-9549-44b2-a012-3deea0073003\",\"type\":\"WheelZoomTool\"},{\"attributes\":{\"data_source\":{\"id\":\"a17ee737-765a-4846-9e0d-f5f465d57696\",\"type\":\"ColumnDataSource\"},\"glyph\":{\"id\":\"d0ea87ec-2b80-48c1-815c-2345ec517a1c\",\"type\":\"Line\"},\"hover_glyph\":null,\"muted_glyph\":null,\"nonselection_glyph\":{\"id\":\"2dd9fe48-783e-4e14-984e-827de652d6db\",\"type\":\"Line\"},\"selection_glyph\":null,\"view\":{\"id\":\"b7cf62e6-35cc-499f-b7f6-0d8e6d59f831\",\"type\":\"CDSView\"}},\"id\":\"807b95c0-05ad-4eec-a3df-537567c6a367\",\"type\":\"GlyphRenderer\"},{\"attributes\":{\"overlay\":{\"id\":\"79de87d0-cd72-4044-9fbe-10bc414ce775\",\"type\":\"BoxAnnotation\"}},\"id\":\"2ce86087-57e2-4bf1-a137-daf0bee589b1\",\"type\":\"BoxZoomTool\"},{\"attributes\":{},\"id\":\"c998b98a-0665-4996-96ab-15d76a993307\",\"type\":\"SaveTool\"},{\"attributes\":{},\"id\":\"6f7c6139-69bc-4d51-ad19-f2d2eaf61100\",\"type\":\"ResetTool\"},{\"attributes\":{\"label\":{\"value\":\"Prior\"},\"renderers\":[{\"id\":\"6d2aa282-4c8c-4cc4-a71f-170d533e5431\",\"type\":\"GlyphRenderer\"}]},\"id\":\"d0b23135-943b-48e1-aaaa-c4b980ff9021\",\"type\":\"LegendItem\"},{\"attributes\":{},\"id\":\"a94e9bef-92cc-4c1b-a67a-3f4a126f0040\",\"type\":\"Selection\"},{\"attributes\":{\"line_alpha\":0.6,\"line_color\":\"firebrick\",\"line_width\":3,\"x\":{\"field\":\"x\"},\"y\":{\"field\":\"posterior\"}},\"id\":\"c3f02e1c-57b6-43bf-be27-cab92e9b580f\",\"type\":\"Line\"},{\"attributes\":{\"line_alpha\":0.1,\"line_color\":\"#1f77b4\",\"line_width\":3,\"x\":{\"field\":\"x\"},\"y\":{\"field\":\"posterior\"}},\"id\":\"10df4962-5b4e-4b8e-adad-9890479aef27\",\"type\":\"Line\"},{\"attributes\":{},\"id\":\"9c323e4a-bdbd-455d-b9c0-c1e6474520e1\",\"type\":\"LinearScale\"},{\"attributes\":{\"data_source\":{\"id\":\"9e79eaeb-c89e-4dc7-abff-2d8fd0b000b3\",\"type\":\"ColumnDataSource\"},\"glyph\":{\"id\":\"c3f02e1c-57b6-43bf-be27-cab92e9b580f\",\"type\":\"Line\"},\"hover_glyph\":null,\"muted_glyph\":null,\"nonselection_glyph\":{\"id\":\"10df4962-5b4e-4b8e-adad-9890479aef27\",\"type\":\"Line\"},\"selection_glyph\":null,\"view\":{\"id\":\"ae75e7a1-2f6b-4a37-bd63-a3f5d118013b\",\"type\":\"CDSView\"}},\"id\":\"45d4aa00-ecca-4454-85ed-0681f7c97eab\",\"type\":\"GlyphRenderer\"},{\"attributes\":{\"line_alpha\":0.6,\"line_color\":\"#1f77b4\",\"line_width\":4,\"x\":{\"field\":\"x\"},\"y\":{\"field\":\"prior\"}},\"id\":\"d0ea87ec-2b80-48c1-815c-2345ec517a1c\",\"type\":\"Line\"},{\"attributes\":{\"source\":{\"id\":\"9e79eaeb-c89e-4dc7-abff-2d8fd0b000b3\",\"type\":\"ColumnDataSource\"}},\"id\":\"ae75e7a1-2f6b-4a37-bd63-a3f5d118013b\",\"type\":\"CDSView\"},{\"attributes\":{\"active_drag\":\"auto\",\"active_inspect\":\"auto\",\"active_multi\":null,\"active_scroll\":\"auto\",\"active_tap\":\"auto\",\"tools\":[{\"id\":\"bec06f10-7918-45dd-8dbb-fab9dd74e1e7\",\"type\":\"PanTool\"},{\"id\":\"8c84e572-9492-42a8-a331-16895ec52533\",\"type\":\"WheelZoomTool\"},{\"id\":\"1709940e-09aa-4397-89cb-2b5a9e567212\",\"type\":\"BoxZoomTool\"},{\"id\":\"6171f176-acdc-4dfe-8b59-f41f145d3f9b\",\"type\":\"SaveTool\"},{\"id\":\"673bbf79-0860-4982-81c5-8913d1537440\",\"type\":\"ResetTool\"},{\"id\":\"8c1fa088-8327-40db-b044-20e153dd7d2e\",\"type\":\"HelpTool\"}]},\"id\":\"8fe7ad6d-5018-4336-8e49-f11428403c1c\",\"type\":\"Toolbar\"},{\"attributes\":{\"plot\":{\"id\":\"2823bba1-ef2a-4a04-9143-269853bb829b\",\"subtype\":\"Figure\",\"type\":\"Plot\"},\"ticker\":{\"id\":\"bf165b7c-4e28-45c2-a8c7-c57ca536609d\",\"type\":\"BasicTicker\"}},\"id\":\"fcbee941-0795-4657-9104-9b5364c256a2\",\"type\":\"Grid\"},{\"attributes\":{\"label\":{\"value\":\"Posterior\"},\"renderers\":[{\"id\":\"45d4aa00-ecca-4454-85ed-0681f7c97eab\",\"type\":\"GlyphRenderer\"}]},\"id\":\"cecbf7b5-d251-402d-8f26-75e01913e7b6\",\"type\":\"LegendItem\"},{\"attributes\":{\"axis_label\":\"q\",\"axis_label_text_font_size\":{\"value\":\"16pt\"},\"formatter\":{\"id\":\"d92deaf3-8143-4863-aecb-76c91cbbb14b\",\"type\":\"BasicTickFormatter\"},\"major_label_text_font_size\":{\"value\":\"14pt\"},\"plot\":{\"id\":\"2823bba1-ef2a-4a04-9143-269853bb829b\",\"subtype\":\"Figure\",\"type\":\"Plot\"},\"ticker\":{\"id\":\"bf165b7c-4e28-45c2-a8c7-c57ca536609d\",\"type\":\"BasicTicker\"}},\"id\":\"585a3e72-d6c7-4985-a6fb-e0d1a3d5eaf5\",\"type\":\"LinearAxis\"},{\"attributes\":{},\"id\":\"9d5e1bb8-bc6f-428f-ad8a-1227e645918e\",\"type\":\"LinearScale\"},{\"attributes\":{},\"id\":\"bf165b7c-4e28-45c2-a8c7-c57ca536609d\",\"type\":\"BasicTicker\"},{\"attributes\":{\"axis_label\":\"Probability Density\",\"axis_label_text_font_size\":{\"value\":\"16pt\"},\"formatter\":{\"id\":\"084b4150-760a-4acf-afff-5c77306787cc\",\"type\":\"BasicTickFormatter\"},\"major_label_text_font_size\":{\"value\":\"14pt\"},\"plot\":{\"id\":\"2823bba1-ef2a-4a04-9143-269853bb829b\",\"subtype\":\"Figure\",\"type\":\"Plot\"},\"ticker\":{\"id\":\"7dd3189e-070c-4cef-aea8-225e901a4231\",\"type\":\"BasicTicker\"}},\"id\":\"b080a734-de5c-4cfb-a5ad-fc74a2de2934\",\"type\":\"LinearAxis\"},{\"attributes\":{},\"id\":\"7dd3189e-070c-4cef-aea8-225e901a4231\",\"type\":\"BasicTicker\"},{\"attributes\":{\"data_source\":{\"id\":\"b2bd08bc-36af-4bfe-bc2b-80e60b2916e3\",\"type\":\"ColumnDataSource\"},\"glyph\":{\"id\":\"69aba224-67e5-44bf-b85b-4dc42f8d2d44\",\"type\":\"Line\"},\"hover_glyph\":null,\"muted_glyph\":null,\"nonselection_glyph\":{\"id\":\"feafba88-0a4f-4838-8886-67199be8ec8b\",\"type\":\"Line\"},\"selection_glyph\":null,\"view\":{\"id\":\"bb56cbd8-db6e-4541-8384-92551cf942cd\",\"type\":\"CDSView\"}},\"id\":\"33561f6a-f56c-48a9-8ac2-cdc778a522e5\",\"type\":\"GlyphRenderer\"},{\"attributes\":{\"dimension\":1,\"plot\":{\"id\":\"2823bba1-ef2a-4a04-9143-269853bb829b\",\"subtype\":\"Figure\",\"type\":\"Plot\"},\"ticker\":{\"id\":\"7dd3189e-070c-4cef-aea8-225e901a4231\",\"type\":\"BasicTicker\"}},\"id\":\"95bf8ff1-92fb-4416-aad9-a3b39be11b3d\",\"type\":\"Grid\"},{\"attributes\":{\"line_alpha\":0.1,\"line_color\":\"#1f77b4\",\"line_width\":4,\"x\":{\"field\":\"x\"},\"y\":{\"field\":\"prior\"}},\"id\":\"2dd9fe48-783e-4e14-984e-827de652d6db\",\"type\":\"Line\"},{\"attributes\":{},\"id\":\"d92deaf3-8143-4863-aecb-76c91cbbb14b\",\"type\":\"BasicTickFormatter\"},{\"attributes\":{\"plot\":null,\"text\":\"Strong prior in favor of fair coin\",\"text_font_size\":{\"value\":\"14pt\"}},\"id\":\"0593f5b4-63d5-46ec-b269-7b4c30caa9c9\",\"type\":\"Title\"},{\"attributes\":{},\"id\":\"bec06f10-7918-45dd-8dbb-fab9dd74e1e7\",\"type\":\"PanTool\"},{\"attributes\":{},\"id\":\"e61ea308-12f6-491f-8a62-93ee7e871422\",\"type\":\"BasicTickFormatter\"},{\"attributes\":{\"source\":{\"id\":\"a17ee737-765a-4846-9e0d-f5f465d57696\",\"type\":\"ColumnDataSource\"}},\"id\":\"b7cf62e6-35cc-499f-b7f6-0d8e6d59f831\",\"type\":\"CDSView\"},{\"attributes\":{\"line_alpha\":0.6,\"line_color\":\"#1f77b4\",\"line_width\":4,\"x\":{\"field\":\"x\"},\"y\":{\"field\":\"prior\"}},\"id\":\"50e298ac-8ad8-4411-861c-bf82958eaa39\",\"type\":\"Line\"},{\"attributes\":{\"below\":[{\"id\":\"585a3e72-d6c7-4985-a6fb-e0d1a3d5eaf5\",\"type\":\"LinearAxis\"}],\"left\":[{\"id\":\"b080a734-de5c-4cfb-a5ad-fc74a2de2934\",\"type\":\"LinearAxis\"}],\"outline_line_color\":{\"value\":\"black\"},\"plot_height\":400,\"plot_width\":500,\"renderers\":[{\"id\":\"585a3e72-d6c7-4985-a6fb-e0d1a3d5eaf5\",\"type\":\"LinearAxis\"},{\"id\":\"fcbee941-0795-4657-9104-9b5364c256a2\",\"type\":\"Grid\"},{\"id\":\"b080a734-de5c-4cfb-a5ad-fc74a2de2934\",\"type\":\"LinearAxis\"},{\"id\":\"95bf8ff1-92fb-4416-aad9-a3b39be11b3d\",\"type\":\"Grid\"},{\"id\":\"ae2bf4c3-02f2-48b2-90a1-e70de56d24cc\",\"type\":\"BoxAnnotation\"},{\"id\":\"380fab75-345f-4b3d-b1b6-5e2ccbcfea18\",\"type\":\"Legend\"},{\"id\":\"807b95c0-05ad-4eec-a3df-537567c6a367\",\"type\":\"GlyphRenderer\"},{\"id\":\"6dcd3788-7cdc-4cec-be1a-2b7de1322f29\",\"type\":\"GlyphRenderer\"}],\"title\":{\"id\":\"0593f5b4-63d5-46ec-b269-7b4c30caa9c9\",\"type\":\"Title\"},\"toolbar\":{\"id\":\"8fe7ad6d-5018-4336-8e49-f11428403c1c\",\"type\":\"Toolbar\"},\"toolbar_location\":null,\"x_range\":{\"id\":\"7a58c5a5-885d-47e3-84fb-84fadd750df0\",\"type\":\"DataRange1d\"},\"x_scale\":{\"id\":\"9c323e4a-bdbd-455d-b9c0-c1e6474520e1\",\"type\":\"LinearScale\"},\"y_range\":{\"id\":\"84254d43-56cc-409a-8a51-624fed6e4da1\",\"type\":\"DataRange1d\"},\"y_scale\":{\"id\":\"9d5e1bb8-bc6f-428f-ad8a-1227e645918e\",\"type\":\"LinearScale\"}},\"id\":\"2823bba1-ef2a-4a04-9143-269853bb829b\",\"subtype\":\"Figure\",\"type\":\"Plot\"},{\"attributes\":{},\"id\":\"8c84e572-9492-42a8-a331-16895ec52533\",\"type\":\"WheelZoomTool\"},{\"attributes\":{\"callback\":null},\"id\":\"ed350b86-3130-4484-8fca-3590b450ba19\",\"type\":\"DataRange1d\"},{\"attributes\":{\"overlay\":{\"id\":\"ae2bf4c3-02f2-48b2-90a1-e70de56d24cc\",\"type\":\"BoxAnnotation\"}},\"id\":\"1709940e-09aa-4397-89cb-2b5a9e567212\",\"type\":\"BoxZoomTool\"},{\"attributes\":{\"line_alpha\":0.6,\"line_color\":\"#1f77b4\",\"line_width\":4,\"x\":{\"field\":\"x\"},\"y\":{\"field\":\"prior\"}},\"id\":\"69aba224-67e5-44bf-b85b-4dc42f8d2d44\",\"type\":\"Line\"},{\"attributes\":{\"callback\":null,\"data\":{\"posterior\":{\"__ndarray__\":\"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\",\"dtype\":\"float64\",\"shape\":[500]},\"prior\":{\"__ndarray__\":\"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\",\"dtype\":\"float64\",\"shape\":[500]},\"x\":{\"__ndarray__\":\"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\",\"dtype\":\"float64\",\"shape\":[500]}},\"selected\":{\"id\":\"e4fec62e-ca6c-44f6-bf7a-22a5cfd7c007\",\"type\":\"Selection\"},\"selection_policy\":{\"id\":\"d537ba94-c11a-4d0e-813f-9ad7efe07c89\",\"type\":\"UnionRenderers\"}},\"id\":\"b2bd08bc-36af-4bfe-bc2b-80e60b2916e3\",\"type\":\"ColumnDataSource\"},{\"attributes\":{},\"id\":\"6171f176-acdc-4dfe-8b59-f41f145d3f9b\",\"type\":\"SaveTool\"},{\"attributes\":{\"active_drag\":\"auto\",\"active_inspect\":\"auto\",\"active_multi\":null,\"active_scroll\":\"auto\",\"active_tap\":\"auto\",\"tools\":[{\"id\":\"2d50c803-d20f-4d20-8688-1ee3e1e5655a\",\"type\":\"PanTool\"},{\"id\":\"bb709926-405b-45b0-9198-3439532d2e2c\",\"type\":\"WheelZoomTool\"},{\"id\":\"0a2f6772-a544-4d87-bfe2-67c4568ffa13\",\"type\":\"BoxZoomTool\"},{\"id\":\"c5addaf1-d0c7-4d1c-98b9-81c4cbfb370c\",\"type\":\"SaveTool\"},{\"id\":\"ab350158-0a2a-446e-a413-64ecd43c10a7\",\"type\":\"ResetTool\"},{\"id\":\"2e36dbb3-494c-4758-974b-1cdb17a3ae67\",\"type\":\"HelpTool\"}]},\"id\":\"5ccdbdd9-c453-4f62-8e96-de9b63c3d142\",\"type\":\"Toolbar\"},{\"attributes\":{},\"id\":\"673bbf79-0860-4982-81c5-8913d1537440\",\"type\":\"ResetTool\"},{\"attributes\":{},\"id\":\"384dd1f9-8dfa-40bd-99b9-cbb30e13c959\",\"type\":\"LinearScale\"},{\"attributes\":{},\"id\":\"8c1fa088-8327-40db-b044-20e153dd7d2e\",\"type\":\"HelpTool\"},{\"attributes\":{},\"id\":\"3d84809b-86d0-4008-a133-e947ab0b087f\",\"type\":\"LinearScale\"},{\"attributes\":{\"bottom_units\":\"screen\",\"fill_alpha\":{\"value\":0.5},\"fill_color\":{\"value\":\"lightgrey\"},\"left_units\":\"screen\",\"level\":\"overlay\",\"line_alpha\":{\"value\":1.0},\"line_color\":{\"value\":\"black\"},\"line_dash\":[4,4],\"line_width\":{\"value\":2},\"plot\":null,\"render_mode\":\"css\",\"right_units\":\"screen\",\"top_units\":\"screen\"},\"id\":\"ae2bf4c3-02f2-48b2-90a1-e70de56d24cc\",\"type\":\"BoxAnnotation\"},{\"attributes\":{\"callback\":null},\"id\":\"9e8662da-534f-4e36-98fb-e539f93b083a\",\"type\":\"DataRange1d\"},{\"attributes\":{\"label\":{\"value\":\"Prior\"},\"renderers\":[{\"id\":\"807b95c0-05ad-4eec-a3df-537567c6a367\",\"type\":\"GlyphRenderer\"}]},\"id\":\"f29873b2-0dea-458e-ad0e-8b3ed267d91c\",\"type\":\"LegendItem\"},{\"attributes\":{\"plot\":{\"id\":\"07e5800c-081a-46a7-af2b-522146cc6844\",\"subtype\":\"Figure\",\"type\":\"Plot\"},\"ticker\":{\"id\":\"985abf75-c3f7-4a79-8cc1-1bc4063b6910\",\"type\":\"BasicTicker\"}},\"id\":\"478553e7-c790-45f4-beca-93b9c6c8998d\",\"type\":\"Grid\"},{\"attributes\":{},\"id\":\"084b4150-760a-4acf-afff-5c77306787cc\",\"type\":\"BasicTickFormatter\"},{\"attributes\":{\"axis_label\":\"q\",\"axis_label_text_font_size\":{\"value\":\"16pt\"},\"formatter\":{\"id\":\"ef7bfaf4-9953-4efd-b387-6b8dd718cd7f\",\"type\":\"BasicTickFormatter\"},\"major_label_text_font_size\":{\"value\":\"14pt\"},\"plot\":{\"id\":\"07e5800c-081a-46a7-af2b-522146cc6844\",\"subtype\":\"Figure\",\"type\":\"Plot\"},\"ticker\":{\"id\":\"985abf75-c3f7-4a79-8cc1-1bc4063b6910\",\"type\":\"BasicTicker\"}},\"id\":\"69801cf8-c8ac-40f3-aabd-b65c74bb442f\",\"type\":\"LinearAxis\"},{\"attributes\":{\"items\":[{\"id\":\"f29873b2-0dea-458e-ad0e-8b3ed267d91c\",\"type\":\"LegendItem\"},{\"id\":\"be2d79c3-3ad8-4313-b7a1-66287ac59612\",\"type\":\"LegendItem\"}],\"plot\":{\"id\":\"2823bba1-ef2a-4a04-9143-269853bb829b\",\"subtype\":\"Figure\",\"type\":\"Plot\"}},\"id\":\"380fab75-345f-4b3d-b1b6-5e2ccbcfea18\",\"type\":\"Legend\"},{\"attributes\":{},\"id\":\"27591982-4921-4ef0-8e94-0d94aa1b7047\",\"type\":\"BasicTickFormatter\"},{\"attributes\":{},\"id\":\"2f5ccf3e-52b3-4853-899c-8340aef8307c\",\"type\":\"Selection\"},{\"attributes\":{},\"id\":\"985abf75-c3f7-4a79-8cc1-1bc4063b6910\",\"type\":\"BasicTicker\"},{\"attributes\":{\"axis_label\":\"Probability Density\",\"axis_label_text_font_size\":{\"value\":\"16pt\"},\"formatter\":{\"id\":\"a978b32b-f966-4549-875d-c9b61b2bf2e5\",\"type\":\"BasicTickFormatter\"},\"major_label_text_font_size\":{\"value\":\"14pt\"},\"plot\":{\"id\":\"07e5800c-081a-46a7-af2b-522146cc6844\",\"subtype\":\"Figure\",\"type\":\"Plot\"},\"ticker\":{\"id\":\"c1b267d2-bc7b-41fe-a958-beed5e931a6d\",\"type\":\"BasicTicker\"}},\"id\":\"c6fa5afe-4224-4140-8126-ee9636723cf4\",\"type\":\"LinearAxis\"},{\"attributes\":{\"line_alpha\":0.6,\"line_color\":\"firebrick\",\"line_width\":3,\"x\":{\"field\":\"x\"},\"y\":{\"field\":\"posterior\"}},\"id\":\"22e2cee4-6362-4512-ac38-d27ced791ee2\",\"type\":\"Line\"},{\"attributes\":{},\"id\":\"c1b267d2-bc7b-41fe-a958-beed5e931a6d\",\"type\":\"BasicTicker\"},{\"attributes\":{\"line_alpha\":0.1,\"line_color\":\"#1f77b4\",\"line_width\":3,\"x\":{\"field\":\"x\"},\"y\":{\"field\":\"posterior\"}},\"id\":\"cb7da221-9755-4c60-879b-79875f156857\",\"type\":\"Line\"},{\"attributes\":{\"dimension\":1,\"plot\":{\"id\":\"07e5800c-081a-46a7-af2b-522146cc6844\",\"subtype\":\"Figure\",\"type\":\"Plot\"},\"ticker\":{\"id\":\"c1b267d2-bc7b-41fe-a958-beed5e931a6d\",\"type\":\"BasicTicker\"}},\"id\":\"fbac00f6-5b10-48b9-ad81-b4d4eed6af5d\",\"type\":\"Grid\"},{\"attributes\":{\"data_source\":{\"id\":\"a17ee737-765a-4846-9e0d-f5f465d57696\",\"type\":\"ColumnDataSource\"},\"glyph\":{\"id\":\"22e2cee4-6362-4512-ac38-d27ced791ee2\",\"type\":\"Line\"},\"hover_glyph\":null,\"muted_glyph\":null,\"nonselection_glyph\":{\"id\":\"cb7da221-9755-4c60-879b-79875f156857\",\"type\":\"Line\"},\"selection_glyph\":null,\"view\":{\"id\":\"d9377a24-1b0f-47db-b063-5d12af03df9f\",\"type\":\"CDSView\"}},\"id\":\"6dcd3788-7cdc-4cec-be1a-2b7de1322f29\",\"type\":\"GlyphRenderer\"},{\"attributes\":{\"line_alpha\":0.1,\"line_color\":\"#1f77b4\",\"line_width\":4,\"x\":{\"field\":\"x\"},\"y\":{\"field\":\"prior\"}},\"id\":\"feafba88-0a4f-4838-8886-67199be8ec8b\",\"type\":\"Line\"},{\"attributes\":{\"line_alpha\":0.1,\"line_color\":\"#1f77b4\",\"line_width\":4,\"x\":{\"field\":\"x\"},\"y\":{\"field\":\"prior\"}},\"id\":\"ef756ac5-2108-457a-95df-6747e0b290c7\",\"type\":\"Line\"},{\"attributes\":{\"source\":{\"id\":\"a17ee737-765a-4846-9e0d-f5f465d57696\",\"type\":\"ColumnDataSource\"}},\"id\":\"d9377a24-1b0f-47db-b063-5d12af03df9f\",\"type\":\"CDSView\"},{\"attributes\":{},\"id\":\"ef7bfaf4-9953-4efd-b387-6b8dd718cd7f\",\"type\":\"BasicTickFormatter\"},{\"attributes\":{},\"id\":\"489d2564-6688-4cc5-8888-3ced83aaf249\",\"type\":\"UnionRenderers\"},{\"attributes\":{\"callback\":null},\"id\":\"7a58c5a5-885d-47e3-84fb-84fadd750df0\",\"type\":\"DataRange1d\"},{\"attributes\":{},\"id\":\"de88d2f5-7f17-4367-89bf-bf2bee003d47\",\"type\":\"BasicTicker\"},{\"attributes\":{\"plot\":null,\"text\":\"Weak prior in favor of fair coin\",\"text_font_size\":{\"value\":\"14pt\"}},\"id\":\"15e07c62-aa23-42d6-ad8c-f62eb367d1b9\",\"type\":\"Title\"},{\"attributes\":{\"items\":[{\"id\":\"d0b23135-943b-48e1-aaaa-c4b980ff9021\",\"type\":\"LegendItem\"},{\"id\":\"cecbf7b5-d251-402d-8f26-75e01913e7b6\",\"type\":\"LegendItem\"}],\"plot\":{\"id\":\"b225b2a2-fe4b-4dfd-8368-b041a760f9b5\",\"subtype\":\"Figure\",\"type\":\"Plot\"}},\"id\":\"f15b0504-55e0-4d32-b962-72ae35784242\",\"type\":\"Legend\"},{\"attributes\":{\"label\":{\"value\":\"Posterior\"},\"renderers\":[{\"id\":\"6dcd3788-7cdc-4cec-be1a-2b7de1322f29\",\"type\":\"GlyphRenderer\"}]},\"id\":\"be2d79c3-3ad8-4313-b7a1-66287ac59612\",\"type\":\"LegendItem\"},{\"attributes\":{\"below\":[{\"id\":\"69801cf8-c8ac-40f3-aabd-b65c74bb442f\",\"type\":\"LinearAxis\"}],\"left\":[{\"id\":\"c6fa5afe-4224-4140-8126-ee9636723cf4\",\"type\":\"LinearAxis\"}],\"outline_line_color\":{\"value\":\"black\"},\"plot_height\":400,\"plot_width\":500,\"renderers\":[{\"id\":\"69801cf8-c8ac-40f3-aabd-b65c74bb442f\",\"type\":\"LinearAxis\"},{\"id\":\"478553e7-c790-45f4-beca-93b9c6c8998d\",\"type\":\"Grid\"},{\"id\":\"c6fa5afe-4224-4140-8126-ee9636723cf4\",\"type\":\"LinearAxis\"},{\"id\":\"fbac00f6-5b10-48b9-ad81-b4d4eed6af5d\",\"type\":\"Grid\"},{\"id\":\"ec272502-7560-4530-8dbc-534f1195dfed\",\"type\":\"BoxAnnotation\"},{\"id\":\"b304bcdf-6ac2-4efe-8f44-1121eee6b07d\",\"type\":\"Legend\"},{\"id\":\"33561f6a-f56c-48a9-8ac2-cdc778a522e5\",\"type\":\"GlyphRenderer\"},{\"id\":\"6938f149-4a2e-4103-a89a-3030cf24d48e\",\"type\":\"GlyphRenderer\"}],\"title\":{\"id\":\"15e07c62-aa23-42d6-ad8c-f62eb367d1b9\",\"type\":\"Title\"},\"toolbar\":{\"id\":\"5ccdbdd9-c453-4f62-8e96-de9b63c3d142\",\"type\":\"Toolbar\"},\"toolbar_location\":null,\"x_range\":{\"id\":\"ed350b86-3130-4484-8fca-3590b450ba19\",\"type\":\"DataRange1d\"},\"x_scale\":{\"id\":\"384dd1f9-8dfa-40bd-99b9-cbb30e13c959\",\"type\":\"LinearScale\"},\"y_range\":{\"id\":\"9e8662da-534f-4e36-98fb-e539f93b083a\",\"type\":\"DataRange1d\"},\"y_scale\":{\"id\":\"3d84809b-86d0-4008-a133-e947ab0b087f\",\"type\":\"LinearScale\"}},\"id\":\"07e5800c-081a-46a7-af2b-522146cc6844\",\"subtype\":\"Figure\",\"type\":\"Plot\"},{\"attributes\":{},\"id\":\"2d50c803-d20f-4d20-8688-1ee3e1e5655a\",\"type\":\"PanTool\"},{\"attributes\":{\"source\":{\"id\":\"b2bd08bc-36af-4bfe-bc2b-80e60b2916e3\",\"type\":\"ColumnDataSource\"}},\"id\":\"bb56cbd8-db6e-4541-8384-92551cf942cd\",\"type\":\"CDSView\"},{\"attributes\":{},\"id\":\"bb709926-405b-45b0-9198-3439532d2e2c\",\"type\":\"WheelZoomTool\"},{\"attributes\":{\"plot\":null,\"text\":\"Uninformative Prior\",\"text_font_size\":{\"value\":\"14pt\"}},\"id\":\"28cd71da-2906-45c3-920a-6f3a1c0091ff\",\"type\":\"Title\"},{\"attributes\":{\"overlay\":{\"id\":\"ec272502-7560-4530-8dbc-534f1195dfed\",\"type\":\"BoxAnnotation\"}},\"id\":\"0a2f6772-a544-4d87-bfe2-67c4568ffa13\",\"type\":\"BoxZoomTool\"},{\"attributes\":{},\"id\":\"c5addaf1-d0c7-4d1c-98b9-81c4cbfb370c\",\"type\":\"SaveTool\"},{\"attributes\":{},\"id\":\"ab350158-0a2a-446e-a413-64ecd43c10a7\",\"type\":\"ResetTool\"},{\"attributes\":{\"callback\":null,\"data\":{\"posterior\":{\"__ndarray__\":\"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\",\"dtype\":\"float64\",\"shape\":[500]},\"prior\":{\"__ndarray__\":\"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\",\"dtype\":\"float64\",\"shape\":[500]},\"x\":{\"__ndarray__\":\"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\",\"dtype\":\"float64\",\"shape\":[500]}},\"selected\":{\"id\":\"a94e9bef-92cc-4c1b-a67a-3f4a126f0040\",\"type\":\"Selection\"},\"selection_policy\":{\"id\":\"bd6adfd6-78f9-4eaf-8a87-beb4d861e2b9\",\"type\":\"UnionRenderers\"}},\"id\":\"9e79eaeb-c89e-4dc7-abff-2d8fd0b000b3\",\"type\":\"ColumnDataSource\"},{\"attributes\":{},\"id\":\"2e36dbb3-494c-4758-974b-1cdb17a3ae67\",\"type\":\"HelpTool\"},{\"attributes\":{},\"id\":\"a796e241-ee2a-4d97-a05e-7ec1532c29cc\",\"type\":\"LinearScale\"},{\"attributes\":{\"bottom_units\":\"screen\",\"fill_alpha\":{\"value\":0.5},\"fill_color\":{\"value\":\"lightgrey\"},\"left_units\":\"screen\",\"level\":\"overlay\",\"line_alpha\":{\"value\":1.0},\"line_color\":{\"value\":\"black\"},\"line_dash\":[4,4],\"line_width\":{\"value\":2},\"plot\":null,\"render_mode\":\"css\",\"right_units\":\"screen\",\"top_units\":\"screen\"},\"id\":\"ec272502-7560-4530-8dbc-534f1195dfed\",\"type\":\"BoxAnnotation\"},{\"attributes\":{\"label\":{\"value\":\"Prior\"},\"renderers\":[{\"id\":\"33561f6a-f56c-48a9-8ac2-cdc778a522e5\",\"type\":\"GlyphRenderer\"}]},\"id\":\"354ef5d5-39cd-457b-96c4-70671612756e\",\"type\":\"LegendItem\"},{\"attributes\":{},\"id\":\"bd6adfd6-78f9-4eaf-8a87-beb4d861e2b9\",\"type\":\"UnionRenderers\"},{\"attributes\":{},\"id\":\"a978b32b-f966-4549-875d-c9b61b2bf2e5\",\"type\":\"BasicTickFormatter\"},{\"attributes\":{\"callback\":null,\"data\":{\"posterior\":{\"__ndarray__\":\"AAAAAAAAAAAAAAAAAAAAAAAAAAAAAAAAAAAAAAAAAAAAAAAAAAAAAAAAAAAAAAAAAAAAAAAAAAAAAAAAAAAAAAAAAAAAAAAAAAAAAAAAAAAAAAAAAAAAAAAAAAAAAAAAAAAAAAAAAAAAAAAAAAAAAAAAAAAAAAAAAAAAAAAAAAAAAAAAAAAAAAAAAAAAAAAAAAAAAAAAAAAAAAAAAAAAAAAAAAAAAAAAAAAAAAAAAAAAAAAAAAAAAAAAAAAAAAAAAAAAAAAAAAAAAAAAAAAAAAAAAAAAAAAAAAAAAAAAAAAAAAAAAAAAAAAAAAAAAAAAAAAAAAAAAAAAAAAAAAAAAAAAAAAAAAAAAAAAAAAAAAAAAAAAAAAAAAAAAAAAAAAAAAAAAAAAAAAAAAAAAAAAAAAAAAAAAAAAAAAAAAAAAAAAAAAAAAAAAAAAAAAAAAAAAAAAAAAAAAAAAAAAAAAAAAAAAAAAAAAAAAAAAAAAAAAAAAAAAAAAAAAAAAAAAAAAAAAAAAAAAAAAAAAAAAAAAAAAAAAAAAAAAAAAAAAAAAAAAAAAAAAAAAAAAAAAAAAAAAAAAAAAAAAAAAAAAAAAAAAAAAAAAAAAAAAAAAAAAAAAAAAAAAAAAAAAAAAAAAAAAAAAAAAAAAAAAAAAAAAAAAAAAAAAAAAAAAAAAAAAAAAAAAAAAAAAAAAAAAAAAAAAAAAAAAAAAAAAAAAAAAAAAAAAAAAAAAAAAAAAAAAAAAAAAAAAAAAAAAAAAAAAAAAAAAAAAAAAAAAAAAAAAAAAAAAAAAAAAAAAAAAAAAAAAAAAAAAAAAAAAD8KAAAAAAAAGofiFAAAAABhXBBYPCMAAKNU4zZKtqgAjx7E7hXyrAFdRHUCxW6sAqumuYVwhKcDuko5oqJxoAQAoejclIOTBQctIAIZuYMGp+1yGsUJcQcaqqn1KD9ZCOXJ5vJSGEAJ9iBCct62IQqu9VuZquEAC46FMU1n8dsLfH9sHE4ktAyhNMlASVyJDWM27GSg9lsOcgDvN4sSKw8WJa8dMBL3D56GA95RWcEQBQ3VnAIUhxEVpcPnRTdLEgiCXwpdhAwTUYNrbTebyhMIuowtZyaGFJV/6jzPfEAVNa6QDlj99RVS69ndHFOqFuH4dtcHV1wXRFkCbHB8Cxgn6ZCl9A64GGgFQEiHCWMZUnAvkyVICxpFSTuz+bqxGhDpHtVu71QbI271xnF99huquTTAiwOWHJnDbN5yqTMdbC4IK/8L0B0AMct9kPdnHmz+3ssnZgAffvhPuK2WlB+0/Wovh74nIGN9Z4B6L7kgc4zSwmyZSCG9/U0dkSbWIY39oUfFaGIiqQeqrB9G7CI8lDKgdxV0IzVD4Eyfa/oj2yg6lr0bgCSkOnabvTkCJZcXoDgGJ4MlQ6hQ1we2AiZMW1PVnQKBJq3bX35izvwmwxJBcfG8dieOD0muEr/wJ4gSKCH0CGcoNkh/evec3SiQqTmp/s1RKRrZuAi8CsQpzBdUo6EiNSpyC/4SbuWkKmdx5opBYhMrwvTLHevhgCuUvj66h6HrK+VFMaJ9QlUshJKym8bHvixzfRkhdPokLbjCg5aA8IotL/j32UZO8C1jcXO0dJ5SLmzK3bTtELQuBheFH05sFC+r4TViQ6RzLw+7/bIj3NEv8L3TqKa5LjC9XzfIzAOJMFuyyZdHSeMww3JAeGAtPDE8VvORKYOTMctSPPBgoekx+29BayXyPzKyWpItbeaSMvYd1kaOPeUyxGtBTpOuNjNJ9EyUegaHMzGKl1+6OtYzVskXFzprJDQf2wx3NdpxNMfDqa+1ub00T0vUQwmTBzX7GVvnGtFRNeLDURiMrJk1QEZXzjCk4TVrm0MkHiEnNm1qaU3h8Gw2bZL760VJsTbCiBwXo7jzNoMEuJWefjU3iBEuq31jdjcUMMT4/Eq2N1StF7kKOvU3Y8NBSFlVMzhZKoT3UdlwOD58CHyoG6w4YFTW+Exy5jgFx1BxkSohOb/q0i/DJlk5togkh6CnkTlveacPNcHHOV16pcsfpP45/muQvCXzMjqJQ0eZIXtmOkpgXG0glpk6rqG8bqnxyzrlervXwkr9OvZsE5w1ei07CGE2FON7XDs2RRMfR2+KO2Ja4RMYkbc7rrbUvMov5DvbmM3V9Z0QPDlN7MSXSzo8gZhvoFYAZDyQc6123kGNPJm30bQulLQ89EuE9GjY2zwrkOfRnR8CPSn16PccsyY9wlVYrkRcSz1zoLLZqb1vPcj6sHsjuZE94MOnJiYOsz04J/yIM7rTPZzqMy8Hq/M9G0caxvLiEj66V+CVVHgxPkR6HWH6Ik8+SlNLvBu8aj5Omxnsxx6GPiwVA9Zso6E+k8GymqYcuz5R40GS2RXUPqLd0FR0sOw+N5dz0RvBAz81GlNXBjsaP4I59mIQyzA/PTXwAZO8RD+Ab5cTJrJYP+CY0NMxXmw/PIn1mLpufz+c1+p8gcyQP1JhNL+gUqE/BPNdjPA7sT8Kev5VFovAP98UeqJNpc4/fZDQneBj2z8v6uRSqJ/nP3jy3v60qfM/oERbfPKW/z9d5rc0g30IQF5CP5spUxJAa0blh+t3GkBVqOsTV3MiQMZKXHcl1ChAaVX+ZxwgMECiQLSj8Dc0QJYeqa91eDhAH/sPssmWPEAQW0W58h5AQOreDN3GjEFAWXmTdFtxQkCas6b2bbVCQCZmYGrkUUJA4ci5iwVRQUC4Mx5hc5k/QItp7Ah71DtAwDMBBoeoN0A4eJNElmkzQOiRceaRvy5A4qRzqumAJ0Ajfrts31YhQMOzwhPNsBhAb+sNgAv3EEAdnMIIcH8GQF3bpJswyvw/eHve+UbG8T/x+McRLi3lP2Ofefx6V9g/+zjfbWb+yj9a0HYuq+C8PwJyGNXIzK0/Fsu2tlupnT/2aH5xmXmMP8XvBd/ZXHo/ZiswT0OJZz8PTPPI2kJUPyipXQwD0UA/pHUYWk7pKj/Jj5dWysEUPzJSvtzl3P4+dcgYVeUc5j6HHpWeConOPpn2f09rULQ+Zei6/z4Kmj758LLk1ROAPp01JRk7H2M+AWblxR7nRT6aZzKbbCgoPhzy6dxbpwk+oWYt94o56j0ye2SSr83JPRqLx57vbqg94VLBCv9Chj1mrOrwcYNjPSAQmYrmc0A936/c9bWuGj1OivhpAM70PB9EVMbVMM887Jyi+1R5pjxuA9hM0B9/PCJw+7pGtVQ8Zufhbat4KjyZF5ieCkAAPL65RCt7KNM73E1s6xivpTuqNCEMlI53O9BfKsLgjkg7ps1tt+iPGDuzFBWeHJDnOgww+/gMrbU6GX9h88sdgzpKOi6ZkShQOtHqHHOrLBo6/lKuq85O5Dmo0LKssy2uOdW7cv3nd3U5W8qRkyo8PTkZgbUm/gsDOSlGn+WKvcc4JcY9APJLjDid011zCR9QOGfth+gNjhE47Q2c/jlD0jdxPMkgACWSN/qgRxPxNVE3KdMK8/4oDzfiJx05QOnKNrhaoc88KoY2tIpeSV1nQTYvEg9Hfwv6NcK4V8hvkLI1pmAh5AozaTWjgPEbaEcgNXhJaWO+AtQ0jigmppZkhzTRC8il5v45NJ+S4qPWcusztGhOO6CGmzO87ASIJTRKM5bD/P83q/cyIu1vFodGpDLNbJipvHZQMhBy5ErhVPkxvTnWbxp0ojEJ0kjsDHJJMZqWQIInmPAw7F4vGDt2lDBa1pkSw9Y3MPZ9VlTcOdovAE9S2Hw6ey9xMcynfakaL1x6hwGbm7gu06PtDsRkVS5dqGRMHILxLcAQMphB9YotlcnQyKKCIy0HAHNYf4e6LFL/qeuH7lAsm6WEbRdG5Ctco0xCKsF2K/lIut2d6wcr6/erA6mIlyqXverp1aYlKl4uFwrWnLIp+Jne+OvfPSlViJOPF13GKOK5Os8INE8o1cdwSbtE1CeWhwoof35YJ0nkjixagtsm0m8VpyyvXCaDrzGavb3bJZrbpAXE21gloXNz2g6e1CRGEuJsyJ5PJDgIRR/JZMYjdQ7rUK9CPSPwVXWZQ52xIkbEOyNohCMiVovFB8jgkyEoEjeNApYCIV9S/TGL3W8g/wxBPuoC2R/Z58t3U/NBH0Fm4z/Ahqceh675eBQdDB7Hnk1j5ZVuHXYwn0FkP84cRUtqqUAmKxwgJ2aFyxSGGzVu8LEWP+Aa00JkOQ2XNRpUUlNlfd2JGXKiJjBd4tsYT44H1yUAKxiDybCZMHB3F0Vu99gaNMIWa3WFODw/CRbxfmYSCDNPFd/At2+kI5EU1tZ8UGO00BPfyw17t9EME2meO4Qt80USeHOLMylzfRFFPdD9W1uxEOp8SLZy7eEP3bQHMoUuEA+D/zhq3nQ5Dq6gtn0sZmEN4EaPR9iahAxZzeGVAROlC4p7RrhPjsIKkZkoBcIJ3AnQ4FRzBR3yCCdqmJ7h8AMIeh52pdWiEgfMIM8JC3UdBifavgMUnCMFEqDq/pjmJQQMj/8sEG4kA8AT3XLksR8CE31r4X9ZFAEvaAxIKMMKAHbARqoEAAAAF6YBAAAAAAAAAAAAAAAAAAAAAAAAAAAAAAAAAAAAAAAAAAAAAAAAAAAAAAAAAAAAAAAAAAAAAAAAAAAAAAAAAAAAAAAAAAAAAAAAAAAAAAAAAAAAAAAAAAAAAAAAAAAAAAAAAAAAAAAAAAAAAAAAAAAAAAAAAAAAAAAAAAAAAAAAAAAAAAAAAAAAAAAAAAAAAAAAAAAAAAAAAAAAAAAAAAAAAAAAAAAAAAAAAAAAAAAAAAAAAAAAAAAAAAAAAAAAAAAAAAAAAAAAAAAAAAAAAAAAAAAAAAAAAAAAAAAAAAAAAAAAAAAAAAAAAAAAAAAAAAAAAAAAAAAAAAAAAAAAAAAAAAAAAAAAAAAAAAAAAAAAAAAAAAAAAAAAAAAAAAAAAAAAAAAAAAAAAAAAAAAAAAAAAAAAAAAAAAAAAAAAAAAAAAAAAAAAAAAAAAAAAAAAAAAAAAAAAAAAAAAAAAAAAAAAAAAAAAAAAAAAAAAAAAAAAAAAAAAAAAAAAAAAAAAAAAAAAAAAAAAAAAAAAAAAAAAAAAAAAAAAAAAAAAAAAAAAAAAAAAAAAAAAAAAAAAAAAAAAAAAAAAAAAAAAAAAAAAAAAAAAAAAAAAAAAAAAAAAAAAAAAAAAAAAAAAAAAAAAAAAAAAAAAAAAAAAAAAAAAAAAAAAAAAAAAAAAAAAAAAAAAAAAAAAAAAAAAAAAAAAAAAAAAAAAAAAAAAAAAAAAAAAAAAAAAAAAAAAAAAAAAAAAAAAAAAAAAAAAAAAAAAAAAAAAAAAAAAAAAAAAAAAAAA==\",\"dtype\":\"float64\",\"shape\":[500]},\"prior\":{\"__ndarray__\":\"AAAAAAAAAAAAAAAAAAAAAAAAAAAAAAAAAAAAAAAAAAAAAAAAAAAAAAAAAAAAAAAAAAAAAAAAAAAAAAAAAAAAAAAAAAAAAAAAAAAAAAAAAAAAAAAAAAAAAAAAAAAAAAAAAAAAAAAAAAAAAAAAAAAAAAAAAAAAAAAAAAAAAAAAAAAAAAAAAAAAAAAAAAAAAAAAAAAAAAAAAAAAAAAAAAAAAAAAAAAAAAAAAAAAAAAAAAAAAAAAAAAAAAAAAAAAAAAAAAAAAAAAAAAAAAAAAAAAAAAAAAAAAAAAAAAAAAAAAAAAAAAAAAAAAAAAAAAAAAAAAAAAAAAAAAAAAAAAAAAAAAAAAAAAAAAAAAAAAAAAAAAAAAAAAAAAAAAAAAAAAAAAAAAAAAAAAAAAAAAAAAAAAAAAAAAAAAAAAAAAAAAAAAAAAAAAAAAAAAAAAAAAAAAAAAAAAAAAAAAAAAAAAAAAAAAAAAAAAAAAAAAAAAAAAAAAAAAAAAAAAAAAAAAAAAAAAAAAAAAAAAAAAAAAAAAAAAAAAAAAAAAAAAAAAAAAAAAAAAAAAAAAAAAAAAAAAAAAAAAAAAAAAAAAAAAAAAAAAAAAAAAAAAAAAAAAAAAAAAAAAAAAAAAAAAAAAAAAAAAAAAAAAAAAAAAAAAAAAAAAAAAAAAAAAAAAAAAAAAAAAAAAAAAAAAAAAAAAAAAAAAAAAAAAAAAAAAAAAAAAAAAAAAAAAAAAAAAA4wgAAAAAAADhoCgXAAAAAKTJl6z2MAAAiJ5FqakctQDgLZcIed29AWbn9hGVasECjFadZwrVwANC+U3T8xa7BPyonOv/O7IFIIHwBfOfpAZV+0tBOK+TB6tf3Z6+1X8Ik2euU6vlZQlfPQb3irhJCkFcK6lD5CkLUIfOSU5qBgwMKAEtBr/gDFNmkvHoqbUNOPA0IFRXiA5ott20sdNXDx/ougs1YSQQyphifJqM7hCsrK6ViR60EeBOLZwiWXcS2S0Irw7vNxOdY3JWxLn1E0AcfXSCgbEUxg3uZd4ZaRWDuAseRAwgFhWhGkvMVtIWZXZOQBLFghcS8d7rsD0xGM0sevqPe9wYxWaHQbcyhRkNkmWjrXssGtNCdnY0TtEaSNdXtwUNcxtFaFVQVAgTHOceNo3OSLEc0p6lQ3yVTB1rAgV+xI3lHWXPKp4tsH0eGMrt4bmzEh+1CHyBdZWlH53LaZaL2TYgfMuMNlU4xiBy74wA3d9TIRNHi+stX+Ah9fHUOXLfaCLDM2Tmw3HxIp9uh1ZinnYj//miVkAk+yOZq/Dn5ix+JAAyAk79Hf8kmrtfp4XLfSXoLibcmIT6JUvxAEjH9XUm/wBjlBXw8CartCqi+VtoJ8Y/egqFWOAn5BavkXR9VCguj4lZOQPIKLLjuBPdVDop877voosKqylmSbcSXwcaKkfpzFKpgIcq9iRf9FHs8ypfDf5AWLxfK/bkBlEjxMcrPoI/dEm/MCxahc0gojmWLOdMT0Afy/ssT7SOFydjYC2QbXpBCjzCLXXvV2iPKCMukwyBltUEgy4pi+59qNnhLtwOwjO8sj8vzy9oxTqkmi/VzCW9TDX1L8/Wo7b8/08wK7EH503kpjBp0cD06xL/MIjK9WsyBVQxxSkfmmOAqDHdzDJuhn78MZo3kK5RgU8ylrTX9TeRoDI9mGIF9pTwMnnFxaWAmj8z0uZu+w+wjDNSgW2rDNHYM/YeuDyudyQ0W6JTMNgZcDSiZtDkFCy4ND8PmTI5UgE1j36G0Oy0RzVPsUOQnP+ONQhSSaygXtM1PG3M3+AkFzb75jL2MHNaNq9Rss4o7Jw2+9udP1pF3jYsDGm3xVUeN/ZY9z/aHV03iPgVq9nGmjdwxi5c85nXN/xEBkO28RM4vMNhvs4pUDib0NcHACKJOHOd2o8uwMI4lsCPdjfb+jjUzINdfXcyOS/6bdQdZGg5S86P7RvznjlG/X3Fed7SOZpqypJvHQY6EOv+h33rODp7Pn3zJQFrOuwXPRsfJpw6977NECI7zDoKdwlsaT/7OqoRMWGKUCk7X5TZa8WkVjuNJ0vTToGDO+IBMkfyLrA7tlAIPTXf2TttJxancO0DPGB/qTQKli089opx7PQrVTxQKgWf6TZ9PBv9KrXub6M8DUu18yzyyDxu1QJaeOLuPB011CgvchI9J+W21S5DNT0VPRsYh6dXPWKcfHPoZnk97k+n3/JVmj1li3+NJ126PXudAMm2fNk9ES1VzE/M9z3O8s8WB3cVPr8AXr1NtDI+RtlvyBx/Tz7LQxqyV6BpPvvAIg+jJoQ+GfjdSKqhnj6DPvCNfoG2PpualnwS+c8+9Tx3F4z15T4mDYW34Cr9PhO1GuS5uxI/HrIocAdGJz8sBnGSq/c7P4xJ905XQVA/JQkd5LdHYj9ABDqtoeNzP+ZW+s0q8IQ/x+Tz7UlUlT/0zdnjrwalP8Ki9Hw0D7Q/V4VZK4mFwj9FzqH6fY3QP07/JyBRo9w/4bLoCQ775z9zgaENcnDzP1baKS+fgv4/FEwlLCouB0CmkxzRCw0RQHCwfuCNSRhA5zfffYa/IECyFl+2ol0mQJyplFPE6yxAkqiP5kMbMkAMizMbSvQ1QK+uM1kTxzlAB7B7ylZPPUC3Mxqg7yJAQBaVtqPTNEFAqix/XYDEQUCqLH9dgMRBQBaVtqPTNEFAtzMaoO8iQEAHsHvKVk89QK+uM1kTxzlADIszG0r0NUCSqI/mQxsyQJyplFPE6yxAshZftqJdJkDnN999hr8gQHCwfuCNSRhAppMc0QsNEUAUTCUsKi4HQFbaKS+fgv4/c4GhDXJw8z/hsugJDvvnP07/JyBRo9w/Rc6h+n2N0D9XhVkriYXCP8Ki9Hw0D7Q/9M3Z468GpT/H5PPtSVSVP+ZW+s0q8IQ/R/85raHjcz8lCR3kt0diP5xN905XQVA/LAZxkqv3Oz8esihwB0YnPxO1GuS5uxI/Jg2Ft+Aq/T71PHcXjPXlPpualnwS+c8+gz7wjX6Btj4Z+N1IqqGePgXGIg+jJoQ+y0MaslegaT5G2W/IHH9PPr8AXr1NtDI+zvLPFgd3FT4RLVXMT8z3PdqjAMm2fNk9ZYt/jSdduj3uT6ff8lWaPWKcfHPoZnk9FT0bGIenVz146rbVLkM1PR011CgvchI9Jt0CWnji7jxKUbXzLPLIPBv9KrXub6M8njEFn+k2fTxBkHHs9CtVPMaGqTQKli08bScWp3DtAzy2UAg9Nd/ZO+IBMkfyLrA7bSxL006BgztflNlrxaRWO/4XMWGKUCk7CncJbGk/+zr3vs0QIjvMOuwXPRsfJpw6PEV98yUBazoQ6/6Hfes4OiJwypJvHQY6/gF+xXne0jlLzo/tG/OeOS/6bdQdZGg51MyDXX13MjmWwI92N9v6OCOi2o8uwMI4m9DXBwAiiTi8w2G+zilQOPlJBkO28RM4cMYuXPOZ1zfW8RWr2caaN/ZY9z/aHV03whNpt8VVHjeM450/WkXeNnRKss4o7Jw2mO0y9jBzWjY8bczf4CQXNt9WSaygXtM1T7FDkJz/jjWPfobQ7LRHNZMTmTI5UgE1uHLQ5BQsuDRhplMw2BlwNPYeuDyudyQ0UoFtqwzR2DMq9W77D7CMM3nFxaWAmj8zPZhiBfaU8DK7uNf1N5GgMpo3kK5RgU8y3cwyboZ+/DHlLx+aY4CoMYjK9WsyBVQxLtnA9OsS/zDltgfnTeSmMM/Wo7b8/08w1cwlvUw19S94NmjFOqSaL7UewjO8sj8vFZTufajZ4S5UEYGW1QSDLj/0V2iPKCMuH3J6QQo8wi2BvI4XJ2NgLfRFT0Afy/ssWoXNIKI5lixuhj90Sb8wLPbkBlEjxMcrXw3+QFi8Xyv2JF/0UezzKkfpzFKpgIcq6E+3El8HGirzvu+iiwqrKUfquBPdVDopLo+JWTkDyCgEHK+RdH1UKMY/egqFWOAnq7QqovlbaCf/AGOUFfDwJsj2AEjH9XUmiTUm3JiE+iWau1+nhct9Jcc5Ak79Hf8kJLPw5+YsfiTIAKNWQCT7I0Z0h1ZinnYjwzNk5sNx8SIt+NQ5ct9oIhNHi+stX+Ahcu+MAN3fUyEK0Yw2VTjGIArXaZaL2TYg5Rh8gXWVpR/Fzu3hubMSH9LWKp4tsH0eMg0FfsSN5R0draVDfJVMHTkjNo3OSLEcjHZVUFQIExwM3Fe3BQ1zGydHdnY0TtEaS6Blo617LBoSbIdBtzKFGQs7evqPe9wYAP7e67A9MRgWe05AEsWCF0GqGkvMVtIWicALHkQMIBZTGu5l3hlpFQElfXSCgbEUem5yVsS59RPQOQivDu83E7dULZwiWXcSu7aulYketBFtoGJ8mozuEDftugs1YSQQUsLdtLHTVw9O9jQgVFeIDr1rkvHoqbUNbDABLQa/4AxQh85JTmoGDLpiK6lD5CkLzkMG94q4SQoMba5Tq+VlCZZv3Z6+1X8ILQVMQTivkwdwi/AF85+kBhqynOv/O7IFzgZO0/MWuwT3Xp1nCtXAAxzw9hGVasEC4C2XCHndvQEXqUWpqRy1ALzJl6z2MAAA4aAoFwAAAADjCAAAAAAAAAAAAAAAAAAAAAAAAAAAAAAAAAAAAAAAAAAAAAAAAAAAAAAAAAAAAAAAAAAAAAAAAAAAAAAAAAAAAAAAAAAAAAAAAAAAAAAAAAAAAAAAAAAAAAAAAAAAAAAAAAAAAAAAAAAAAAAAAAAAAAAAAAAAAAAAAAAAAAAAAAAAAAAAAAAAAAAAAAAAAAAAAAAAAAAAAAAAAAAAAAAAAAAAAAAAAAAAAAAAAAAAAAAAAAAAAAAAAAAAAAAAAAAAAAAAAAAAAAAAAAAAAAAAAAAAAAAAAAAAAAAAAAAAAAAAAAAAAAAAAAAAAAAAAAAAAAAAAAAAAAAAAAAAAAAAAAAAAAAAAAAAAAAAAAAAAAAAAAAAAAAAAAAAAAAAAAAAAAAAAAAAAAAAAAAAAAAAAAAAAAAAAAAAAAAAAAAAAAAAAAAAAAAAAAAAAAAAAAAAAAAAAAAAAAAAAAAAAAAAAAAAAAAAAAAAAAAAAAAAAAAAAAAAAAAAAAAAAAAAAAAAAAAAAAAAAAAAAAAAAAAAAAAAAAAAAAAAAAAAAAAAAAAAAAAAAAAAAAAAAAAAAAAAAAAAAAAAAAAAAAAAAAAAAAAAAAAAAAAAAAAAAAAAAAAAAAAAAAAAAAAAAAAAAAAAAAAAAAAAAAAAAAAAAAAAAAAAAAAAAAAAAAAAAAAAAAAAAAAAAAAAAAAAAAAAAAAAAAAAAAAAAAAAAAAAAAAAAAAAAAAAAAAAAAAAAAAAAA==\",\"dtype\":\"float64\",\"shape\":[500]},\"x\":{\"__ndarray__\":\"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\",\"dtype\":\"float64\",\"shape\":[500]}},\"selected\":{\"id\":\"2f5ccf3e-52b3-4853-899c-8340aef8307c\",\"type\":\"Selection\"},\"selection_policy\":{\"id\":\"489d2564-6688-4cc5-8888-3ced83aaf249\",\"type\":\"UnionRenderers\"}},\"id\":\"a17ee737-765a-4846-9e0d-f5f465d57696\",\"type\":\"ColumnDataSource\"},{\"attributes\":{\"callback\":null},\"id\":\"27600183-64f0-4166-a70e-600b28c86d54\",\"type\":\"DataRange1d\"},{\"attributes\":{\"items\":[{\"id\":\"354ef5d5-39cd-457b-96c4-70671612756e\",\"type\":\"LegendItem\"},{\"id\":\"1a8c2a86-e82e-41da-a70b-2545ebc31f6b\",\"type\":\"LegendItem\"}],\"plot\":{\"id\":\"07e5800c-081a-46a7-af2b-522146cc6844\",\"subtype\":\"Figure\",\"type\":\"Plot\"}},\"id\":\"b304bcdf-6ac2-4efe-8f44-1121eee6b07d\",\"type\":\"Legend\"},{\"attributes\":{\"source\":{\"id\":\"9e79eaeb-c89e-4dc7-abff-2d8fd0b000b3\",\"type\":\"ColumnDataSource\"}},\"id\":\"444200ec-162c-415b-a029-9ed1173e7f7c\",\"type\":\"CDSView\"},{\"attributes\":{},\"id\":\"e4fec62e-ca6c-44f6-bf7a-22a5cfd7c007\",\"type\":\"Selection\"},{\"attributes\":{\"axis_label\":\"q\",\"axis_label_text_font_size\":{\"value\":\"16pt\"},\"formatter\":{\"id\":\"e61ea308-12f6-491f-8a62-93ee7e871422\",\"type\":\"BasicTickFormatter\"},\"major_label_text_font_size\":{\"value\":\"14pt\"},\"plot\":{\"id\":\"b225b2a2-fe4b-4dfd-8368-b041a760f9b5\",\"subtype\":\"Figure\",\"type\":\"Plot\"},\"ticker\":{\"id\":\"d63a82a7-11ab-4534-92a3-2567f6ce4a08\",\"type\":\"BasicTicker\"}},\"id\":\"3bdae952-db9e-46a1-b738-59b0913d3d7c\",\"type\":\"LinearAxis\"},{\"attributes\":{\"callback\":null},\"id\":\"84254d43-56cc-409a-8a51-624fed6e4da1\",\"type\":\"DataRange1d\"},{\"attributes\":{\"callback\":null},\"id\":\"17975870-9708-49e1-9b09-c9ce5423c8fb\",\"type\":\"DataRange1d\"},{\"attributes\":{\"line_alpha\":0.6,\"line_color\":\"firebrick\",\"line_width\":3,\"x\":{\"field\":\"x\"},\"y\":{\"field\":\"posterior\"}},\"id\":\"d96ae608-5a0e-4f62-a8db-27f275c36e67\",\"type\":\"Line\"},{\"attributes\":{\"active_drag\":\"auto\",\"active_inspect\":\"auto\",\"active_multi\":null,\"active_scroll\":\"auto\",\"active_tap\":\"auto\",\"tools\":[{\"id\":\"72ae8bda-531f-49d0-bb51-c8f0350104cb\",\"type\":\"PanTool\"},{\"id\":\"84519e08-9549-44b2-a012-3deea0073003\",\"type\":\"WheelZoomTool\"},{\"id\":\"2ce86087-57e2-4bf1-a137-daf0bee589b1\",\"type\":\"BoxZoomTool\"},{\"id\":\"c998b98a-0665-4996-96ab-15d76a993307\",\"type\":\"SaveTool\"},{\"id\":\"6f7c6139-69bc-4d51-ad19-f2d2eaf61100\",\"type\":\"ResetTool\"},{\"id\":\"7dbd938a-ce22-4c36-897e-91319f0dd0f5\",\"type\":\"HelpTool\"}]},\"id\":\"2c5447bd-fe40-4fb9-9790-036d3905c069\",\"type\":\"Toolbar\"},{\"attributes\":{\"line_alpha\":0.1,\"line_color\":\"#1f77b4\",\"line_width\":3,\"x\":{\"field\":\"x\"},\"y\":{\"field\":\"posterior\"}},\"id\":\"7c46081e-882f-4078-b624-91c7ede45498\",\"type\":\"Line\"},{\"attributes\":{\"data_source\":{\"id\":\"9e79eaeb-c89e-4dc7-abff-2d8fd0b000b3\",\"type\":\"ColumnDataSource\"},\"glyph\":{\"id\":\"50e298ac-8ad8-4411-861c-bf82958eaa39\",\"type\":\"Line\"},\"hover_glyph\":null,\"muted_glyph\":null,\"nonselection_glyph\":{\"id\":\"ef756ac5-2108-457a-95df-6747e0b290c7\",\"type\":\"Line\"},\"selection_glyph\":null,\"view\":{\"id\":\"444200ec-162c-415b-a029-9ed1173e7f7c\",\"type\":\"CDSView\"}},\"id\":\"6d2aa282-4c8c-4cc4-a71f-170d533e5431\",\"type\":\"GlyphRenderer\"},{\"attributes\":{\"data_source\":{\"id\":\"b2bd08bc-36af-4bfe-bc2b-80e60b2916e3\",\"type\":\"ColumnDataSource\"},\"glyph\":{\"id\":\"d96ae608-5a0e-4f62-a8db-27f275c36e67\",\"type\":\"Line\"},\"hover_glyph\":null,\"muted_glyph\":null,\"nonselection_glyph\":{\"id\":\"7c46081e-882f-4078-b624-91c7ede45498\",\"type\":\"Line\"},\"selection_glyph\":null,\"view\":{\"id\":\"ba1c941f-623e-4d0d-bdd5-4bd9530f3832\",\"type\":\"CDSView\"}},\"id\":\"6938f149-4a2e-4103-a89a-3030cf24d48e\",\"type\":\"GlyphRenderer\"},{\"attributes\":{},\"id\":\"d63a82a7-11ab-4534-92a3-2567f6ce4a08\",\"type\":\"BasicTicker\"},{\"attributes\":{\"source\":{\"id\":\"b2bd08bc-36af-4bfe-bc2b-80e60b2916e3\",\"type\":\"ColumnDataSource\"}},\"id\":\"ba1c941f-623e-4d0d-bdd5-4bd9530f3832\",\"type\":\"CDSView\"},{\"attributes\":{},\"id\":\"7dbd938a-ce22-4c36-897e-91319f0dd0f5\",\"type\":\"HelpTool\"},{\"attributes\":{},\"id\":\"d537ba94-c11a-4d0e-813f-9ad7efe07c89\",\"type\":\"UnionRenderers\"},{\"attributes\":{\"below\":[{\"id\":\"3bdae952-db9e-46a1-b738-59b0913d3d7c\",\"type\":\"LinearAxis\"}],\"left\":[{\"id\":\"ab02f6ac-99bb-4e16-a608-fea51af64794\",\"type\":\"LinearAxis\"}],\"outline_line_color\":{\"value\":\"black\"},\"plot_height\":400,\"plot_width\":500,\"renderers\":[{\"id\":\"3bdae952-db9e-46a1-b738-59b0913d3d7c\",\"type\":\"LinearAxis\"},{\"id\":\"fc8661d4-d883-4873-8106-1b1d27bbf5b1\",\"type\":\"Grid\"},{\"id\":\"ab02f6ac-99bb-4e16-a608-fea51af64794\",\"type\":\"LinearAxis\"},{\"id\":\"1caca809-e334-4c6a-9219-72ffafe90804\",\"type\":\"Grid\"},{\"id\":\"79de87d0-cd72-4044-9fbe-10bc414ce775\",\"type\":\"BoxAnnotation\"},{\"id\":\"f15b0504-55e0-4d32-b962-72ae35784242\",\"type\":\"Legend\"},{\"id\":\"6d2aa282-4c8c-4cc4-a71f-170d533e5431\",\"type\":\"GlyphRenderer\"},{\"id\":\"45d4aa00-ecca-4454-85ed-0681f7c97eab\",\"type\":\"GlyphRenderer\"}],\"title\":{\"id\":\"28cd71da-2906-45c3-920a-6f3a1c0091ff\",\"type\":\"Title\"},\"toolbar\":{\"id\":\"2c5447bd-fe40-4fb9-9790-036d3905c069\",\"type\":\"Toolbar\"},\"toolbar_location\":null,\"x_range\":{\"id\":\"17975870-9708-49e1-9b09-c9ce5423c8fb\",\"type\":\"DataRange1d\"},\"x_scale\":{\"id\":\"a796e241-ee2a-4d97-a05e-7ec1532c29cc\",\"type\":\"LinearScale\"},\"y_range\":{\"id\":\"27600183-64f0-4166-a70e-600b28c86d54\",\"type\":\"DataRange1d\"},\"y_scale\":{\"id\":\"3bcc9a38-8ee0-46b7-989d-a307fe0e69da\",\"type\":\"LinearScale\"}},\"id\":\"b225b2a2-fe4b-4dfd-8368-b041a760f9b5\",\"subtype\":\"Figure\",\"type\":\"Plot\"},{\"attributes\":{\"plot\":{\"id\":\"b225b2a2-fe4b-4dfd-8368-b041a760f9b5\",\"subtype\":\"Figure\",\"type\":\"Plot\"},\"ticker\":{\"id\":\"d63a82a7-11ab-4534-92a3-2567f6ce4a08\",\"type\":\"BasicTicker\"}},\"id\":\"fc8661d4-d883-4873-8106-1b1d27bbf5b1\",\"type\":\"Grid\"},{\"attributes\":{\"label\":{\"value\":\"Posterior\"},\"renderers\":[{\"id\":\"6938f149-4a2e-4103-a89a-3030cf24d48e\",\"type\":\"GlyphRenderer\"}]},\"id\":\"1a8c2a86-e82e-41da-a70b-2545ebc31f6b\",\"type\":\"LegendItem\"},{\"attributes\":{},\"id\":\"3bcc9a38-8ee0-46b7-989d-a307fe0e69da\",\"type\":\"LinearScale\"},{\"attributes\":{\"children\":[{\"id\":\"b225b2a2-fe4b-4dfd-8368-b041a760f9b5\",\"subtype\":\"Figure\",\"type\":\"Plot\"},{\"id\":\"07e5800c-081a-46a7-af2b-522146cc6844\",\"subtype\":\"Figure\",\"type\":\"Plot\"},{\"id\":\"2823bba1-ef2a-4a04-9143-269853bb829b\",\"subtype\":\"Figure\",\"type\":\"Plot\"}]},\"id\":\"0c35fff8-84ec-4fe9-9b88-56b460f32482\",\"type\":\"Row\"},{\"attributes\":{\"axis_label\":\"Probability Density\",\"axis_label_text_font_size\":{\"value\":\"16pt\"},\"formatter\":{\"id\":\"27591982-4921-4ef0-8e94-0d94aa1b7047\",\"type\":\"BasicTickFormatter\"},\"major_label_text_font_size\":{\"value\":\"14pt\"},\"plot\":{\"id\":\"b225b2a2-fe4b-4dfd-8368-b041a760f9b5\",\"subtype\":\"Figure\",\"type\":\"Plot\"},\"ticker\":{\"id\":\"de88d2f5-7f17-4367-89bf-bf2bee003d47\",\"type\":\"BasicTicker\"}},\"id\":\"ab02f6ac-99bb-4e16-a608-fea51af64794\",\"type\":\"LinearAxis\"},{\"attributes\":{\"dimension\":1,\"plot\":{\"id\":\"b225b2a2-fe4b-4dfd-8368-b041a760f9b5\",\"subtype\":\"Figure\",\"type\":\"Plot\"},\"ticker\":{\"id\":\"de88d2f5-7f17-4367-89bf-bf2bee003d47\",\"type\":\"BasicTicker\"}},\"id\":\"1caca809-e334-4c6a-9219-72ffafe90804\",\"type\":\"Grid\"}],\"root_ids\":[\"0c35fff8-84ec-4fe9-9b88-56b460f32482\"]},\"title\":\"Bokeh Application\",\"version\":\"0.13.0\"}};\n",
       "  var render_items = [{\"docid\":\"06828899-51f4-4dcf-a6c9-d2fccb969f3a\",\"roots\":{\"0c35fff8-84ec-4fe9-9b88-56b460f32482\":\"d3882f46-7fcf-46f8-a7d2-7c91e3ab5adb\"}}];\n",
       "  root.Bokeh.embed.embed_items_notebook(docs_json, render_items);\n",
       "\n",
       "  }\n",
       "  if (root.Bokeh !== undefined) {\n",
       "    embed_document(root);\n",
       "  } else {\n",
       "    var attempts = 0;\n",
       "    var timer = setInterval(function(root) {\n",
       "      if (root.Bokeh !== undefined) {\n",
       "        embed_document(root);\n",
       "        clearInterval(timer);\n",
       "      }\n",
       "      attempts++;\n",
       "      if (attempts > 100) {\n",
       "        console.log(\"Bokeh: ERROR: Unable to run BokehJS code because BokehJS library is missing\")\n",
       "        clearInterval(timer);\n",
       "      }\n",
       "    }, 10, root)\n",
       "  }\n",
       "})(window);"
      ],
      "application/vnd.bokehjs_exec.v0+json": ""
     },
     "metadata": {
      "application/vnd.bokehjs_exec.v0+json": {
       "id": "0c35fff8-84ec-4fe9-9b88-56b460f32482"
      }
     },
     "output_type": "display_data"
    }
   ],
   "source": [
    "x = np.linspace(0, 1, 500)  # x-axis data\n",
    "\n",
    "# Data: coin flip outcomes\n",
    "n_heads = 115  # Data: number of heads observed\n",
    "n_tails = 85  # Data: number of tails observed\n",
    "\n",
    "# Completely uninformative prior\n",
    "a = 1  # Prior hyperparameter: pseudo-counts for number of heads (>= 1)\n",
    "b = 1  # Prior hyperparameter: pseudo-counts of number of tails (>= 1)\n",
    "\n",
    "# PDFs for prior and posterior\n",
    "prior_uninformative = beta(a, b)\n",
    "posterior_uninformative = beta(a + n_heads, b + n_tails)\n",
    "p1 = plot_pdfs(x, prior_uninformative, posterior_uninformative, title='Uninformative Prior')\n",
    "\n",
    "# Weak prior in favor of fair coin\n",
    "a = 5  # Prior hyperparameter: pseudo-counts for number of heads (>= 1)\n",
    "b = 5  # Prior hyperparameter: pseudo-counts of number of tails (>= 1)\n",
    "\n",
    "# PDFs for prior and posterior\n",
    "prior_weak = beta(a, b)\n",
    "posterior_weak = beta(a + n_heads, b + n_tails)\n",
    "p2 = plot_pdfs(x, prior_weak, posterior_weak, title='Weak prior in favor of fair coin')\n",
    "\n",
    "# Strong prior in favor of fair coin\n",
    "a = 1000  # Prior hyperparameter: pseudo-counts for number of heads (>= 1)\n",
    "b = 1000  # Prior hyperparameter: pseudo-counts of number of tails (>= 1)\n",
    "\n",
    "# PDFs for prior and posterior\n",
    "prior_strong = beta(a, b)\n",
    "posterior_strong = beta(a + n_heads, b + n_tails)\n",
    "p3 = plot_pdfs(x, prior_strong, posterior_strong, title='Strong prior in favor of fair coin')\n",
    "\n",
    "# Set up layout\n",
    "layout = row(p1, p2, p3)\n",
    "show(layout)"
   ]
  },
  {
   "cell_type": "code",
   "execution_count": 43,
   "metadata": {},
   "outputs": [
    {
     "name": "stdout",
     "output_type": "stream",
     "text": [
      "(0.24284189089843758, 2.6960865861895563e-15)\n",
      "(0.2637839437174284, 2.9285900784151545e-15)\n"
     ]
    }
   ],
   "source": [
    "# Approximate the probability that Prob(Heads) lies between 0.45 and 0.55\n",
    "lower_bound = 0.45\n",
    "upper_bound = 0.55\n",
    "print(quad(prior_weak.pdf, lower_bound, upper_bound))\n",
    "print(quad(posterior_weak.pdf, lower_bound, upper_bound))"
   ]
  },
  {
   "cell_type": "code",
   "execution_count": 42,
   "metadata": {},
   "outputs": [
    {
     "data": {
      "text/plain": [
       "(0.5714285714285714, 0.03406837000787847)"
      ]
     },
     "execution_count": 42,
     "metadata": {},
     "output_type": "execute_result"
    }
   ],
   "source": [
    "posterior_weak.mean(), posterior_weak.std()"
   ]
  },
  {
   "cell_type": "markdown",
   "metadata": {},
   "source": [
    "## Model Selection 1: Is the coin fair?\n",
    "\n",
    "Suppose the following:\n",
    "* We have a set of coin flip data $D = (h, t)$, where $h$ is the number of heads and $t$ is the number of tails.\n",
    "* The unknown parameter $q$ is the probability that any given coin flip outcome will be heads\n",
    "* Let $H_0$ represent the hypothesis \"The coin is fair; $q = 0.5$\"\n",
    "* Let $H_1$ represent the hypothesis \"The coin is unfair; $q$ is some value between 0 and 1\""
   ]
  },
  {
   "cell_type": "code",
   "execution_count": 7,
   "metadata": {},
   "outputs": [],
   "source": [
    "# P(q=0.5) = gamma(H+T+1)/(gamma(H+1) * gamma(T+1)) * 0.5^H * 0.5^T\n",
    "# P(q=x) = gamma(H+T+1)/(gamma(H+1) * gamma(T+1)) * gamma(a+b)/(gamma(a) * gamma(b)) * gamma(H+a) * gamma(T+b) / gamma(H+a+T+b)"
   ]
  },
  {
   "cell_type": "code",
   "execution_count": 9,
   "metadata": {},
   "outputs": [
    {
     "name": "stdout",
     "output_type": "stream",
     "text": [
      "-0.17993064270033443\n"
     ]
    }
   ],
   "source": [
    "# Data\n",
    "n_heads = 115\n",
    "n_tails = 85\n",
    "\n",
    "# Prior probabilities for each model\n",
    "prior_fair = 0.5\n",
    "prior_unfair = 1 - prior_fair\n",
    "\n",
    "# Prior hyperparameters on the unfair coin model\n",
    "a = 1\n",
    "b = 1\n",
    "\n",
    "# Bias weighting for heads for the fair coin model\n",
    "q = 0.5\n",
    "\n",
    "binom_coeff = gammaln(n_heads + n_tails + 1) - gammaln(n_heads + 1) - gammaln(n_tails + 1)\n",
    "p_fair = binom_coeff + (n_heads * np.log(q)) + (n_tails * np.log((1 - q))) + np.log(prior_fair)\n",
    "p_unfair = binom_coeff + gammaln(a + b) - gammaln(a) - gammaln(b) + gammaln(n_heads + a) + gammaln(n_tails + b) - gammaln(n_heads + n_tails + a + b) + np.log(prior_unfair)\n",
    "\n",
    "log_bayes_factor = p_unfair - p_fair  # If > 0, favor unfair coin; if < 0, favor fair coin\n",
    "print(log_bayes_factor)   # Weakly favors fair coin"
   ]
  },
  {
   "cell_type": "code",
   "execution_count": 10,
   "metadata": {},
   "outputs": [
    {
     "data": {
      "text/html": [
       "\n",
       "\n",
       "\n",
       "\n",
       "\n",
       "\n",
       "  <div class=\"bk-root\" id=\"daad3e5c-8fde-4e01-b579-7b926494e85e\"></div>\n"
      ]
     },
     "metadata": {},
     "output_type": "display_data"
    },
    {
     "data": {
      "application/javascript": [
       "(function(root) {\n",
       "  function embed_document(root) {\n",
       "    \n",
       "  var docs_json = {\"c37c5388-4c9e-410c-9b6f-b7c60ba4edea\":{\"roots\":{\"references\":[{\"attributes\":{\"plot\":null,\"text\":\"\"},\"id\":\"582c69bf-4045-4507-bfca-af5a5414a5f3\",\"type\":\"Title\"},{\"attributes\":{\"formatter\":{\"id\":\"15a40e75-56b0-404a-8af2-76c1316fbdc3\",\"type\":\"BasicTickFormatter\"},\"plot\":{\"id\":\"06ae66eb-959c-4e8b-abf0-334b6b3780c5\",\"subtype\":\"Figure\",\"type\":\"Plot\"},\"ticker\":{\"id\":\"fb1bf436-4684-4a7a-b73d-dd2bc8d2beab\",\"type\":\"BasicTicker\"}},\"id\":\"d40e8c5c-2d3f-4411-8ed9-7ca5d31f3dca\",\"type\":\"LinearAxis\"},{\"attributes\":{},\"id\":\"78ad8333-3080-4856-81cd-52eeb053c0d2\",\"type\":\"HelpTool\"},{\"attributes\":{},\"id\":\"cdf19519-00ac-41eb-a4b8-c211158475e2\",\"type\":\"BasicTicker\"},{\"attributes\":{\"dimension\":1,\"plot\":{\"id\":\"06ae66eb-959c-4e8b-abf0-334b6b3780c5\",\"subtype\":\"Figure\",\"type\":\"Plot\"},\"ticker\":{\"id\":\"cdf19519-00ac-41eb-a4b8-c211158475e2\",\"type\":\"BasicTicker\"}},\"id\":\"1b63d417-bbec-42f9-9af4-7c2265c2e813\",\"type\":\"Grid\"},{\"attributes\":{\"callback\":null},\"id\":\"43ccdd4e-ce14-409d-93b1-6ee193076dba\",\"type\":\"DataRange1d\"},{\"attributes\":{\"bottom_units\":\"screen\",\"fill_alpha\":{\"value\":0.5},\"fill_color\":{\"value\":\"lightgrey\"},\"left_units\":\"screen\",\"level\":\"overlay\",\"line_alpha\":{\"value\":1.0},\"line_color\":{\"value\":\"black\"},\"line_dash\":[4,4],\"line_width\":{\"value\":2},\"plot\":null,\"render_mode\":\"css\",\"right_units\":\"screen\",\"top_units\":\"screen\"},\"id\":\"db2e3a74-44c7-4942-8dc7-fd7e78d1078c\",\"type\":\"BoxAnnotation\"},{\"attributes\":{\"active_drag\":\"auto\",\"active_inspect\":\"auto\",\"active_multi\":null,\"active_scroll\":\"auto\",\"active_tap\":\"auto\",\"tools\":[{\"id\":\"25fa668d-e7ab-4dd4-ac6c-4b0ed7d733ea\",\"type\":\"PanTool\"},{\"id\":\"c1a26350-3851-4d34-89b0-3ebbfe19847c\",\"type\":\"WheelZoomTool\"},{\"id\":\"d59b6f02-c71d-4cec-921a-d200a73a543b\",\"type\":\"BoxZoomTool\"},{\"id\":\"2139c988-7323-4056-ba38-de1ca618fb60\",\"type\":\"SaveTool\"},{\"id\":\"ea684822-2a4c-4adf-b0dc-83bc309798c1\",\"type\":\"ResetTool\"},{\"id\":\"78ad8333-3080-4856-81cd-52eeb053c0d2\",\"type\":\"HelpTool\"}]},\"id\":\"99ab36c6-f2e7-46f1-8826-bb3d6a1aebbd\",\"type\":\"Toolbar\"},{\"attributes\":{},\"id\":\"18ccf5dd-87a6-48d0-bc57-c4daa8a633bc\",\"type\":\"BasicTickFormatter\"},{\"attributes\":{\"formatter\":{\"id\":\"18ccf5dd-87a6-48d0-bc57-c4daa8a633bc\",\"type\":\"BasicTickFormatter\"},\"plot\":{\"id\":\"06ae66eb-959c-4e8b-abf0-334b6b3780c5\",\"subtype\":\"Figure\",\"type\":\"Plot\"},\"ticker\":{\"id\":\"cdf19519-00ac-41eb-a4b8-c211158475e2\",\"type\":\"BasicTicker\"}},\"id\":\"03852df5-ca82-4292-b1f7-1d2d20c02221\",\"type\":\"LinearAxis\"},{\"attributes\":{},\"id\":\"ac01367c-3733-4331-a9c6-1d3687566a28\",\"type\":\"LinearScale\"},{\"attributes\":{\"plot\":{\"id\":\"06ae66eb-959c-4e8b-abf0-334b6b3780c5\",\"subtype\":\"Figure\",\"type\":\"Plot\"},\"render_mode\":\"css\",\"text\":\"log(Bayes Factor): -0.18\",\"text_font_size\":{\"value\":\"22pt\"},\"text_font_style\":\"bold\",\"x\":0,\"x_units\":\"screen\",\"y\":15,\"y_units\":\"screen\"},\"id\":\"6bba956f-2173-4837-8eed-6d23f80495bc\",\"type\":\"Label\"},{\"attributes\":{},\"id\":\"ea684822-2a4c-4adf-b0dc-83bc309798c1\",\"type\":\"ResetTool\"},{\"attributes\":{},\"id\":\"15a40e75-56b0-404a-8af2-76c1316fbdc3\",\"type\":\"BasicTickFormatter\"},{\"attributes\":{},\"id\":\"25fa668d-e7ab-4dd4-ac6c-4b0ed7d733ea\",\"type\":\"PanTool\"},{\"attributes\":{\"plot\":{\"id\":\"06ae66eb-959c-4e8b-abf0-334b6b3780c5\",\"subtype\":\"Figure\",\"type\":\"Plot\"},\"ticker\":{\"id\":\"fb1bf436-4684-4a7a-b73d-dd2bc8d2beab\",\"type\":\"BasicTicker\"}},\"id\":\"6a40a1b3-0f03-4494-9d73-2d68fcdd5ae0\",\"type\":\"Grid\"},{\"attributes\":{},\"id\":\"c1a26350-3851-4d34-89b0-3ebbfe19847c\",\"type\":\"WheelZoomTool\"},{\"attributes\":{\"callback\":null},\"id\":\"a56c4165-5dd3-48cd-be66-a3fbb88b9731\",\"type\":\"DataRange1d\"},{\"attributes\":{},\"id\":\"fb1bf436-4684-4a7a-b73d-dd2bc8d2beab\",\"type\":\"BasicTicker\"},{\"attributes\":{},\"id\":\"2139c988-7323-4056-ba38-de1ca618fb60\",\"type\":\"SaveTool\"},{\"attributes\":{\"below\":[{\"id\":\"d40e8c5c-2d3f-4411-8ed9-7ca5d31f3dca\",\"type\":\"LinearAxis\"}],\"left\":[{\"id\":\"03852df5-ca82-4292-b1f7-1d2d20c02221\",\"type\":\"LinearAxis\"}],\"plot_height\":80,\"plot_width\":700,\"renderers\":[{\"id\":\"d40e8c5c-2d3f-4411-8ed9-7ca5d31f3dca\",\"type\":\"LinearAxis\"},{\"id\":\"6a40a1b3-0f03-4494-9d73-2d68fcdd5ae0\",\"type\":\"Grid\"},{\"id\":\"03852df5-ca82-4292-b1f7-1d2d20c02221\",\"type\":\"LinearAxis\"},{\"id\":\"1b63d417-bbec-42f9-9af4-7c2265c2e813\",\"type\":\"Grid\"},{\"id\":\"db2e3a74-44c7-4942-8dc7-fd7e78d1078c\",\"type\":\"BoxAnnotation\"},{\"id\":\"6bba956f-2173-4837-8eed-6d23f80495bc\",\"type\":\"Label\"}],\"title\":{\"id\":\"582c69bf-4045-4507-bfca-af5a5414a5f3\",\"type\":\"Title\"},\"toolbar\":{\"id\":\"99ab36c6-f2e7-46f1-8826-bb3d6a1aebbd\",\"type\":\"Toolbar\"},\"toolbar_location\":null,\"x_range\":{\"id\":\"a56c4165-5dd3-48cd-be66-a3fbb88b9731\",\"type\":\"DataRange1d\"},\"x_scale\":{\"id\":\"ac01367c-3733-4331-a9c6-1d3687566a28\",\"type\":\"LinearScale\"},\"y_range\":{\"id\":\"43ccdd4e-ce14-409d-93b1-6ee193076dba\",\"type\":\"DataRange1d\"},\"y_scale\":{\"id\":\"411a8b8c-f0ed-4aa9-af20-59876a2dbb70\",\"type\":\"LinearScale\"}},\"id\":\"06ae66eb-959c-4e8b-abf0-334b6b3780c5\",\"subtype\":\"Figure\",\"type\":\"Plot\"},{\"attributes\":{\"overlay\":{\"id\":\"db2e3a74-44c7-4942-8dc7-fd7e78d1078c\",\"type\":\"BoxAnnotation\"}},\"id\":\"d59b6f02-c71d-4cec-921a-d200a73a543b\",\"type\":\"BoxZoomTool\"},{\"attributes\":{},\"id\":\"411a8b8c-f0ed-4aa9-af20-59876a2dbb70\",\"type\":\"LinearScale\"}],\"root_ids\":[\"06ae66eb-959c-4e8b-abf0-334b6b3780c5\"]},\"title\":\"Bokeh Application\",\"version\":\"0.13.0\"}};\n",
       "  var render_items = [{\"docid\":\"c37c5388-4c9e-410c-9b6f-b7c60ba4edea\",\"roots\":{\"06ae66eb-959c-4e8b-abf0-334b6b3780c5\":\"daad3e5c-8fde-4e01-b579-7b926494e85e\"}}];\n",
       "  root.Bokeh.embed.embed_items_notebook(docs_json, render_items);\n",
       "\n",
       "  }\n",
       "  if (root.Bokeh !== undefined) {\n",
       "    embed_document(root);\n",
       "  } else {\n",
       "    var attempts = 0;\n",
       "    var timer = setInterval(function(root) {\n",
       "      if (root.Bokeh !== undefined) {\n",
       "        embed_document(root);\n",
       "        clearInterval(timer);\n",
       "      }\n",
       "      attempts++;\n",
       "      if (attempts > 100) {\n",
       "        console.log(\"Bokeh: ERROR: Unable to run BokehJS code because BokehJS library is missing\")\n",
       "        clearInterval(timer);\n",
       "      }\n",
       "    }, 10, root)\n",
       "  }\n",
       "})(window);"
      ],
      "application/vnd.bokehjs_exec.v0+json": ""
     },
     "metadata": {
      "application/vnd.bokehjs_exec.v0+json": {
       "id": "06ae66eb-959c-4e8b-abf0-334b6b3780c5"
      }
     },
     "output_type": "display_data"
    }
   ],
   "source": [
    "p = figure(height=80, width=700, toolbar_location=None)\n",
    "# p.outline_line_alpha = 0\n",
    "\n",
    "label_text = f'log(Bayes Factor): {log_bayes_factor:0.2f}'\n",
    "bf_fair_vs_unfair = Label(x=0, y=15, text=label_text, x_units='screen', y_units='screen', render_mode='css', text_font_size='22pt', text_font_style='bold')\n",
    "p.add_layout(bf_fair_vs_unfair)\n",
    "show(p)"
   ]
  },
  {
   "cell_type": "markdown",
   "metadata": {},
   "source": [
    "### Compare to classical maximum likelihood ratio"
   ]
  },
  {
   "cell_type": "code",
   "execution_count": 11,
   "metadata": {},
   "outputs": [
    {
     "name": "stdout",
     "output_type": "stream",
     "text": [
      "2.25851436583239\n"
     ]
    }
   ],
   "source": [
    "q_fair = 0.5\n",
    "log_likelihood_fair = binom_coeff + (n_heads * np.log(q_fair)) + (n_tails * np.log((1 - q_fair)))\n",
    "\n",
    "q_unfair = n_heads / (n_heads + n_tails)\n",
    "log_likelihood_unfair = binom_coeff + (n_heads * np.log(q_unfair)) + (n_tails * np.log((1 - q_unfair)))\n",
    "\n",
    "log_likelihood_ratio = log_likelihood_unfair - log_likelihood_fair\n",
    "print(log_likelihood_ratio)  # If > 0, favor unfair coin; if < 0, favor fair coin"
   ]
  },
  {
   "cell_type": "markdown",
   "metadata": {},
   "source": [
    "### Compare to classical hypothesis testing"
   ]
  },
  {
   "cell_type": "code",
   "execution_count": 12,
   "metadata": {},
   "outputs": [],
   "source": [
    "# Defining the unfair coin scenario as the alternative hypothesis, the p-value is 0.02 < 0.05, so test favors an unfair coin."
   ]
  },
  {
   "cell_type": "markdown",
   "metadata": {},
   "source": [
    "## Model Selection 2: Is this the same coin?\n",
    "\n",
    "* Suppose we have two sets of coin flip data, $D_1 = (h_1, t_1)$ and $D_2 = (h_2, t_2)$, and want to determine if they came from the same coin\n",
    "* Let $H_0$ represent the hypothesis \"$D_1$ and $D_2$ come from the same coin; $q_1 = q_2$\"\n",
    "* Let $H_1$ represent the hypothesis \"$D_1$ and $D_2$ come from different coins; $q_1 \\neq q_2$\""
   ]
  },
  {
   "cell_type": "code",
   "execution_count": 38,
   "metadata": {},
   "outputs": [
    {
     "name": "stdout",
     "output_type": "stream",
     "text": [
      "-1.604029456522312\n"
     ]
    }
   ],
   "source": [
    "# Data\n",
    "h1 = 115\n",
    "t1 = 85\n",
    "h2 = 215\n",
    "t2 = 150\n",
    "\n",
    "# Prior probabilities for each model\n",
    "prior_same = 0.5\n",
    "prior_different = 1 - prior_fair\n",
    "\n",
    "a = 3\n",
    "b = 3\n",
    "\n",
    "p_same = gammaln(a + b) - gammaln(a) - gammaln(b) + \\\n",
    "         gammaln(h1 + h2 + a) + gammaln(t1 + t2 + b) - gammaln(h1 + h2 + t1 + t2 + a + b) + \\\n",
    "         np.log(prior_same)\n",
    "         \n",
    "p_different = gammaln(a + b) - gammaln(a) - gammaln(b) + \\\n",
    "              gammaln(h1 + a) + gammaln(t1 + b) - gammaln(h1 + t1 + a + b) + \\\n",
    "              gammaln(a + b) - gammaln(a) - gammaln(b) + \\\n",
    "              gammaln(h2 + a) + gammaln(t2 + b) - gammaln(h2 + t2 + a + b) + \\\n",
    "              np.log(prior_different)\n",
    "\n",
    "log_bayes_factor = p_different - p_same\n",
    "print(log_bayes_factor)  # If > 0, favor different coins; if < 0, favor same coin"
   ]
  },
  {
   "cell_type": "code",
   "execution_count": 45,
   "metadata": {},
   "outputs": [],
   "source": [
    "# Compare to chi-square test?"
   ]
  },
  {
   "cell_type": "code",
   "execution_count": null,
   "metadata": {},
   "outputs": [],
   "source": []
  }
 ],
 "metadata": {
  "kernelspec": {
   "display_name": "Python 3",
   "language": "python",
   "name": "python3"
  },
  "language_info": {
   "codemirror_mode": {
    "name": "ipython",
    "version": 3
   },
   "file_extension": ".py",
   "mimetype": "text/x-python",
   "name": "python",
   "nbconvert_exporter": "python",
   "pygments_lexer": "ipython3",
   "version": "3.7.0"
  }
 },
 "nbformat": 4,
 "nbformat_minor": 2
}
